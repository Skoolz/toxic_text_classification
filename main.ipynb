{
 "cells": [
  {
   "cell_type": "markdown",
   "metadata": {},
   "source": [
    "# Проект для «Викишоп» с Bert"
   ]
  },
  {
   "cell_type": "markdown",
   "metadata": {},
   "source": [
    "Интернет-магазин «Викишоп» запускает новый сервис. Теперь пользователи могут редактировать и дополнять описания товаров, как в вики-сообществах. То есть клиенты предлагают свои правки и комментируют изменения других. Магазину нужен инструмент, который будет искать токсичные комментарии и отправлять их на модерацию. \n",
    "\n",
    "**Описание данных**\n",
    "<ul>\n",
    "<li>text-текст комментария\n",
    "<li>toxic-целевой признак\n",
    "</ul>"
   ]
  },
  {
   "cell_type": "markdown",
   "metadata": {},
   "source": [
    "## Содержание\n",
    "* [Загрузка библиотек](#chapter1)\n",
    "* [Загрузка данных](#chapter2)\n",
    "* [Исследование и предобработка данных](#chapter3)\n",
    "* [Обучение](#chapter4)\n",
    "* [Выбор модели](#chapter5)\n",
    "* [Вывод](#chapter6)\n",
    "* [Примечание](#chapter6)"
   ]
  },
  {
   "cell_type": "markdown",
   "metadata": {},
   "source": [
    "## Загрузка библиотек <a class=\"anchor\" id=\"chapter1\"></a>"
   ]
  },
  {
   "cell_type": "code",
   "execution_count": 23,
   "metadata": {},
   "outputs": [
    {
     "name": "stdout",
     "output_type": "stream",
     "text": [
      "Requirement already satisfied: sentence_transformers in c:\\users\\skoolz\\appdata\\local\\programs\\python\\python310\\lib\\site-packages (2.2.2)Note: you may need to restart the kernel to use updated packages.\n",
      "\n",
      "Requirement already satisfied: transformers<5.0.0,>=4.6.0 in c:\\users\\skoolz\\appdata\\local\\programs\\python\\python310\\lib\\site-packages (from sentence_transformers) (4.31.0)\n",
      "Requirement already satisfied: tqdm in c:\\users\\skoolz\\appdata\\local\\programs\\python\\python310\\lib\\site-packages (from sentence_transformers) (4.65.0)\n",
      "Requirement already satisfied: torch>=1.6.0 in c:\\users\\skoolz\\appdata\\local\\programs\\python\\python310\\lib\\site-packages (from sentence_transformers) (2.1.1)\n",
      "Requirement already satisfied: torchvision in c:\\users\\skoolz\\appdata\\local\\programs\\python\\python310\\lib\\site-packages (from sentence_transformers) (0.16.1)\n",
      "Requirement already satisfied: numpy in c:\\users\\skoolz\\appdata\\local\\programs\\python\\python310\\lib\\site-packages (from sentence_transformers) (1.23.5)\n",
      "Requirement already satisfied: scikit-learn in c:\\users\\skoolz\\appdata\\local\\programs\\python\\python310\\lib\\site-packages (from sentence_transformers) (1.3.0)\n",
      "Requirement already satisfied: scipy in c:\\users\\skoolz\\appdata\\local\\programs\\python\\python310\\lib\\site-packages (from sentence_transformers) (1.11.1)\n",
      "Requirement already satisfied: nltk in c:\\users\\skoolz\\appdata\\local\\programs\\python\\python310\\lib\\site-packages (from sentence_transformers) (3.8.1)\n",
      "Requirement already satisfied: sentencepiece in c:\\users\\skoolz\\appdata\\local\\programs\\python\\python310\\lib\\site-packages (from sentence_transformers) (0.1.99)\n",
      "Requirement already satisfied: huggingface-hub>=0.4.0 in c:\\users\\skoolz\\appdata\\local\\programs\\python\\python310\\lib\\site-packages (from sentence_transformers) (0.16.4)\n",
      "Requirement already satisfied: pyyaml>=5.1 in c:\\users\\skoolz\\appdata\\local\\programs\\python\\python310\\lib\\site-packages (from huggingface-hub>=0.4.0->sentence_transformers) (6.0.1)\n",
      "Requirement already satisfied: requests in c:\\users\\skoolz\\appdata\\local\\programs\\python\\python310\\lib\\site-packages (from huggingface-hub>=0.4.0->sentence_transformers) (2.31.0)\n",
      "Requirement already satisfied: typing-extensions>=3.7.4.3 in c:\\users\\skoolz\\appdata\\local\\programs\\python\\python310\\lib\\site-packages (from huggingface-hub>=0.4.0->sentence_transformers) (4.7.1)\n",
      "Requirement already satisfied: packaging>=20.9 in c:\\users\\skoolz\\appdata\\roaming\\python\\python310\\site-packages (from huggingface-hub>=0.4.0->sentence_transformers) (23.1)\n",
      "Requirement already satisfied: filelock in c:\\users\\skoolz\\appdata\\local\\programs\\python\\python310\\lib\\site-packages (from huggingface-hub>=0.4.0->sentence_transformers) (3.12.2)\n",
      "Requirement already satisfied: fsspec in c:\\users\\skoolz\\appdata\\local\\programs\\python\\python310\\lib\\site-packages (from huggingface-hub>=0.4.0->sentence_transformers) (2023.6.0)\n",
      "Requirement already satisfied: sympy in c:\\users\\skoolz\\appdata\\local\\programs\\python\\python310\\lib\\site-packages (from torch>=1.6.0->sentence_transformers) (1.12)\n",
      "Requirement already satisfied: networkx in c:\\users\\skoolz\\appdata\\local\\programs\\python\\python310\\lib\\site-packages (from torch>=1.6.0->sentence_transformers) (3.1)\n",
      "Requirement already satisfied: jinja2 in c:\\users\\skoolz\\appdata\\local\\programs\\python\\python310\\lib\\site-packages (from torch>=1.6.0->sentence_transformers) (3.1.2)\n",
      "Requirement already satisfied: colorama in c:\\users\\skoolz\\appdata\\roaming\\python\\python310\\site-packages (from tqdm->sentence_transformers) (0.4.6)\n",
      "Requirement already satisfied: safetensors>=0.3.1 in c:\\users\\skoolz\\appdata\\local\\programs\\python\\python310\\lib\\site-packages (from transformers<5.0.0,>=4.6.0->sentence_transformers) (0.3.2)\n",
      "Requirement already satisfied: tokenizers!=0.11.3,<0.14,>=0.11.1 in c:\\users\\skoolz\\appdata\\local\\programs\\python\\python310\\lib\\site-packages (from transformers<5.0.0,>=4.6.0->sentence_transformers) (0.13.3)\n",
      "Requirement already satisfied: regex!=2019.12.17 in c:\\users\\skoolz\\appdata\\local\\programs\\python\\python310\\lib\\site-packages (from transformers<5.0.0,>=4.6.0->sentence_transformers) (2023.8.8)\n",
      "Requirement already satisfied: joblib in c:\\users\\skoolz\\appdata\\local\\programs\\python\\python310\\lib\\site-packages (from nltk->sentence_transformers) (1.3.1)\n",
      "Requirement already satisfied: click in c:\\users\\skoolz\\appdata\\local\\programs\\python\\python310\\lib\\site-packages (from nltk->sentence_transformers) (8.1.6)\n",
      "Requirement already satisfied: threadpoolctl>=2.0.0 in c:\\users\\skoolz\\appdata\\local\\programs\\python\\python310\\lib\\site-packages (from scikit-learn->sentence_transformers) (3.2.0)\n",
      "Requirement already satisfied: pillow!=8.3.*,>=5.3.0 in c:\\users\\skoolz\\appdata\\local\\programs\\python\\python310\\lib\\site-packages (from torchvision->sentence_transformers) (10.0.0)\n",
      "Requirement already satisfied: MarkupSafe>=2.0 in c:\\users\\skoolz\\appdata\\local\\programs\\python\\python310\\lib\\site-packages (from jinja2->torch>=1.6.0->sentence_transformers) (2.1.3)\n",
      "Requirement already satisfied: idna<4,>=2.5 in c:\\users\\skoolz\\appdata\\local\\programs\\python\\python310\\lib\\site-packages (from requests->huggingface-hub>=0.4.0->sentence_transformers) (2.10)\n",
      "Requirement already satisfied: urllib3<3,>=1.21.1 in c:\\users\\skoolz\\appdata\\local\\programs\\python\\python310\\lib\\site-packages (from requests->huggingface-hub>=0.4.0->sentence_transformers) (2.0.4)\n",
      "Requirement already satisfied: charset-normalizer<4,>=2 in c:\\users\\skoolz\\appdata\\local\\programs\\python\\python310\\lib\\site-packages (from requests->huggingface-hub>=0.4.0->sentence_transformers) (3.2.0)\n",
      "Requirement already satisfied: certifi>=2017.4.17 in c:\\users\\skoolz\\appdata\\local\\programs\\python\\python310\\lib\\site-packages (from requests->huggingface-hub>=0.4.0->sentence_transformers) (2023.7.22)\n",
      "Requirement already satisfied: mpmath>=0.19 in c:\\users\\skoolz\\appdata\\local\\programs\\python\\python310\\lib\\site-packages (from sympy->torch>=1.6.0->sentence_transformers) (1.3.0)\n"
     ]
    },
    {
     "name": "stderr",
     "output_type": "stream",
     "text": [
      "WARNING: Ignoring invalid distribution -pencv-python-headless (c:\\users\\skoolz\\appdata\\local\\programs\\python\\python310\\lib\\site-packages)\n",
      "WARNING: Ignoring invalid distribution -pencv-python-headless (c:\\users\\skoolz\\appdata\\local\\programs\\python\\python310\\lib\\site-packages)\n",
      "WARNING: Ignoring invalid distribution -pencv-python-headless (c:\\users\\skoolz\\appdata\\local\\programs\\python\\python310\\lib\\site-packages)\n",
      "WARNING: Ignoring invalid distribution -pencv-python-headless (c:\\users\\skoolz\\appdata\\local\\programs\\python\\python310\\lib\\site-packages)\n",
      "WARNING: Ignoring invalid distribution -pencv-python-headless (c:\\users\\skoolz\\appdata\\local\\programs\\python\\python310\\lib\\site-packages)\n",
      "WARNING: Ignoring invalid distribution -pencv-python-headless (c:\\users\\skoolz\\appdata\\local\\programs\\python\\python310\\lib\\site-packages)\n",
      "\n",
      "[notice] A new release of pip available: 22.3.1 -> 23.3.1\n",
      "[notice] To update, run: python.exe -m pip install --upgrade pip\n"
     ]
    }
   ],
   "source": [
    "%pip install sentence_transformers"
   ]
  },
  {
   "cell_type": "code",
   "execution_count": 24,
   "metadata": {},
   "outputs": [],
   "source": [
    "import pandas as pd\n",
    "import numpy as np\n",
    "import seaborn as sns\n",
    "from matplotlib import pyplot as plt\n",
    "import re\n",
    "import string\n",
    "from sentence_transformers import SentenceTransformer\n",
    "import pickle\n",
    "from sklearn.linear_model import LogisticRegression\n",
    "from sklearn.model_selection import train_test_split\n",
    "from sklearn.metrics import accuracy_score,f1_score,roc_auc_score\n",
    "from catboost import CatBoostClassifier\n",
    "from torch import nn\n",
    "import torch\n",
    "from torch.utils.data import TensorDataset,DataLoader\n",
    "from sklearn.feature_extraction.text import TfidfVectorizer\n",
    "from nltk.stem import WordNetLemmatizer\n",
    "from nltk.tokenize import word_tokenize\n",
    "from nltk.corpus import stopwords\n",
    "import nltk\n",
    "from sklearn.utils import resample\n",
    "from nltk import pos_tag\n",
    "from nltk.corpus import wordnet\n",
    "from sklearn.metrics import confusion_matrix\n",
    "from collections import Counter"
   ]
  },
  {
   "cell_type": "markdown",
   "metadata": {},
   "source": [
    "## Загрузка данных <a class=\"anchor\" id=\"chapter2\"></a>"
   ]
  },
  {
   "cell_type": "code",
   "execution_count": 25,
   "metadata": {},
   "outputs": [],
   "source": [
    "df = pd.read_csv('toxic_comments.csv',index_col=0)"
   ]
  },
  {
   "cell_type": "code",
   "execution_count": 26,
   "metadata": {},
   "outputs": [
    {
     "data": {
      "text/html": [
       "<div>\n",
       "<style scoped>\n",
       "    .dataframe tbody tr th:only-of-type {\n",
       "        vertical-align: middle;\n",
       "    }\n",
       "\n",
       "    .dataframe tbody tr th {\n",
       "        vertical-align: top;\n",
       "    }\n",
       "\n",
       "    .dataframe thead th {\n",
       "        text-align: right;\n",
       "    }\n",
       "</style>\n",
       "<table border=\"1\" class=\"dataframe\">\n",
       "  <thead>\n",
       "    <tr style=\"text-align: right;\">\n",
       "      <th></th>\n",
       "      <th>text</th>\n",
       "      <th>toxic</th>\n",
       "    </tr>\n",
       "  </thead>\n",
       "  <tbody>\n",
       "    <tr>\n",
       "      <th>0</th>\n",
       "      <td>Explanation\\nWhy the edits made under my usern...</td>\n",
       "      <td>0</td>\n",
       "    </tr>\n",
       "    <tr>\n",
       "      <th>1</th>\n",
       "      <td>D'aww! He matches this background colour I'm s...</td>\n",
       "      <td>0</td>\n",
       "    </tr>\n",
       "    <tr>\n",
       "      <th>2</th>\n",
       "      <td>Hey man, I'm really not trying to edit war. It...</td>\n",
       "      <td>0</td>\n",
       "    </tr>\n",
       "    <tr>\n",
       "      <th>3</th>\n",
       "      <td>\"\\nMore\\nI can't make any real suggestions on ...</td>\n",
       "      <td>0</td>\n",
       "    </tr>\n",
       "    <tr>\n",
       "      <th>4</th>\n",
       "      <td>You, sir, are my hero. Any chance you remember...</td>\n",
       "      <td>0</td>\n",
       "    </tr>\n",
       "    <tr>\n",
       "      <th>...</th>\n",
       "      <td>...</td>\n",
       "      <td>...</td>\n",
       "    </tr>\n",
       "    <tr>\n",
       "      <th>159446</th>\n",
       "      <td>\":::::And for the second time of asking, when ...</td>\n",
       "      <td>0</td>\n",
       "    </tr>\n",
       "    <tr>\n",
       "      <th>159447</th>\n",
       "      <td>You should be ashamed of yourself \\n\\nThat is ...</td>\n",
       "      <td>0</td>\n",
       "    </tr>\n",
       "    <tr>\n",
       "      <th>159448</th>\n",
       "      <td>Spitzer \\n\\nUmm, theres no actual article for ...</td>\n",
       "      <td>0</td>\n",
       "    </tr>\n",
       "    <tr>\n",
       "      <th>159449</th>\n",
       "      <td>And it looks like it was actually you who put ...</td>\n",
       "      <td>0</td>\n",
       "    </tr>\n",
       "    <tr>\n",
       "      <th>159450</th>\n",
       "      <td>\"\\nAnd ... I really don't think you understand...</td>\n",
       "      <td>0</td>\n",
       "    </tr>\n",
       "  </tbody>\n",
       "</table>\n",
       "<p>159292 rows × 2 columns</p>\n",
       "</div>"
      ],
      "text/plain": [
       "                                                     text  toxic\n",
       "0       Explanation\\nWhy the edits made under my usern...      0\n",
       "1       D'aww! He matches this background colour I'm s...      0\n",
       "2       Hey man, I'm really not trying to edit war. It...      0\n",
       "3       \"\\nMore\\nI can't make any real suggestions on ...      0\n",
       "4       You, sir, are my hero. Any chance you remember...      0\n",
       "...                                                   ...    ...\n",
       "159446  \":::::And for the second time of asking, when ...      0\n",
       "159447  You should be ashamed of yourself \\n\\nThat is ...      0\n",
       "159448  Spitzer \\n\\nUmm, theres no actual article for ...      0\n",
       "159449  And it looks like it was actually you who put ...      0\n",
       "159450  \"\\nAnd ... I really don't think you understand...      0\n",
       "\n",
       "[159292 rows x 2 columns]"
      ]
     },
     "execution_count": 26,
     "metadata": {},
     "output_type": "execute_result"
    }
   ],
   "source": [
    "df"
   ]
  },
  {
   "cell_type": "markdown",
   "metadata": {},
   "source": [
    "**Описание данных**\n",
    "<ul>\n",
    "<li>text-текст комментария\n",
    "<li>toxic-целевой признак\n",
    "</ul>\n",
    "Количество объектов: 159 292"
   ]
  },
  {
   "cell_type": "markdown",
   "metadata": {},
   "source": [
    "## Исследование и предобработка данных <a class=\"anchor\" id=\"chapter3\"></a>"
   ]
  },
  {
   "cell_type": "code",
   "execution_count": 27,
   "metadata": {},
   "outputs": [
    {
     "data": {
      "image/png": "[encoded data removed]",
      "text/plain": [
       "<Figure size 640x480 with 1 Axes>"
      ]
     },
     "metadata": {},
     "output_type": "display_data"
    }
   ],
   "source": [
    "colors = sns.color_palette('pastel')[0:5]\n",
    "plt.pie(x=df.groupby(by='toxic').aggregate(lambda p:len(p)/len(df)).values.flatten(), labels = ['Не токсичные','Токсичные'],colors=colors, autopct='%.0f%%');\n",
    "plt.title('Распределение комментариев');"
   ]
  },
  {
   "cell_type": "markdown",
   "metadata": {},
   "source": [
    "В данных присутсвует явный дисбаланс классов: доля \"токсичных\" комментариев - 10%. При дальнейшем построении моделей будем учитывать это."
   ]
  },
  {
   "cell_type": "code",
   "execution_count": 28,
   "metadata": {},
   "outputs": [
    {
     "data": {
      "text/plain": [
       "0         Explanation\\nWhy the edits made under my usern...\n",
       "1         D'aww! He matches this background colour I'm s...\n",
       "2         Hey man, I'm really not trying to edit war. It...\n",
       "3         \"\\nMore\\nI can't make any real suggestions on ...\n",
       "4         You, sir, are my hero. Any chance you remember...\n",
       "                                ...                        \n",
       "159446    \":::::And for the second time of asking, when ...\n",
       "159447    You should be ashamed of yourself \\n\\nThat is ...\n",
       "159448    Spitzer \\n\\nUmm, theres no actual article for ...\n",
       "159449    And it looks like it was actually you who put ...\n",
       "159450    \"\\nAnd ... I really don't think you understand...\n",
       "Name: text, Length: 159292, dtype: object"
      ]
     },
     "execution_count": 28,
     "metadata": {},
     "output_type": "execute_result"
    }
   ],
   "source": [
    "df['text']"
   ]
  },
  {
   "cell_type": "markdown",
   "metadata": {},
   "source": [
    "В самих комментариях помимо текста присутсвует множество информации, которая будет мешать при обучении модели. Для устранения этой проблемы почистим текст"
   ]
  },
  {
   "cell_type": "code",
   "execution_count": 29,
   "metadata": {},
   "outputs": [],
   "source": [
    "def clean_text(text):\n",
    "    \n",
    "    sample = text\n",
    "    sample = \" \".join([x.lower() for x in sample.split()])\n",
    "    sample = re.sub(r\"\\S*https?:\\S*\", '', sample) #links and urls\n",
    "    sample = re.sub('\\[.*?\\]', '', sample) #text between [square brackets]\n",
    "    sample = re.sub('\\(.*?\\)', '', sample) #text between (parenthesis)\n",
    "    sample = re.sub('#', ' ', sample) #remove hashtags\n",
    "    sample = ' '.join([x for x in sample.split() if not x.startswith('@')]) # remove mentions with @\n",
    "    sample = re.sub('[%s]' % re.escape(string.punctuation), ' ', sample) #punctuations\n",
    "    sample = re.sub('\\w*\\d\\w', '', sample) #digits with trailing or preceeding text\n",
    "    sample = re.sub(r'\\n', ' ', sample) #new line character\n",
    "    sample = re.sub(r'\\\\n', ' ', sample) #new line character\n",
    "    sample = re.sub(\"[''\"\"...“”‘’…]\", '', sample) #list of quotation marks\n",
    "    sample = \" \".join(x.strip() for x in sample.split()) #strips whitespace\n",
    "    sample = re.sub(r', /<[^>]+>/', '', sample)    #HTML attributes\n",
    "    \n",
    "    sample = ' '.join(list(filter(lambda ele: re.search(\"[a-zA-Z\\s]+\", ele) is not None, sample.split()))) #languages other than english\n",
    "    \n",
    "    sample = re.compile(\"[\"\n",
    "                               u\"\\U0001F600-\\U0001F64F\"  # emoticons\n",
    "                               u\"\\U0001F300-\\U0001F5FF\"  # symbols & pictographs\n",
    "                               u\"\\U0001F680-\\U0001F6FF\"  # transport & map symbols\n",
    "                               u\"\\U0001F1E0-\\U0001F1FF\"  # flags (iOS)\n",
    "                               u\"\\U00002500-\\U00002BEF\"  # chinese char\n",
    "                               u\"\\U00002702-\\U000027B0\"\n",
    "                               u\"\\U00002702-\\U000027B0\"\n",
    "                               u\"\\U000024C2-\\U0001F251\"\n",
    "                               u\"\\U0001f926-\\U0001f937\"\n",
    "                               u\"\\U00010000-\\U0010ffff\"\n",
    "                               u\"\\u2640-\\u2642\"\n",
    "                               u\"\\u2600-\\u2B55\"\n",
    "                               u\"\\u200d\"\n",
    "                               u\"\\u23cf\"\n",
    "                               u\"\\u23e9\"\n",
    "                               u\"\\u231a\"\n",
    "                               u\"\\ufe0f\"  # dingbats\n",
    "                               u\"\\u3030\"\n",
    "                               \"]+\", flags=re.UNICODE).sub(r'', sample) #emojis and symbols\n",
    "    sample = sample.strip()\n",
    "    sample = \" \".join([x.strip() for x in sample.split()])\n",
    "    \n",
    "    return sample"
   ]
  },
  {
   "cell_type": "code",
   "execution_count": 30,
   "metadata": {},
   "outputs": [],
   "source": [
    "df['clean_text'] = df['text'].apply(clean_text) "
   ]
  },
  {
   "cell_type": "code",
   "execution_count": 31,
   "metadata": {},
   "outputs": [
    {
     "data": {
      "text/html": [
       "<div>\n",
       "<style scoped>\n",
       "    .dataframe tbody tr th:only-of-type {\n",
       "        vertical-align: middle;\n",
       "    }\n",
       "\n",
       "    .dataframe tbody tr th {\n",
       "        vertical-align: top;\n",
       "    }\n",
       "\n",
       "    .dataframe thead th {\n",
       "        text-align: right;\n",
       "    }\n",
       "</style>\n",
       "<table border=\"1\" class=\"dataframe\">\n",
       "  <thead>\n",
       "    <tr style=\"text-align: right;\">\n",
       "      <th></th>\n",
       "      <th>text</th>\n",
       "      <th>toxic</th>\n",
       "      <th>clean_text</th>\n",
       "    </tr>\n",
       "  </thead>\n",
       "  <tbody>\n",
       "    <tr>\n",
       "      <th>0</th>\n",
       "      <td>Explanation\\nWhy the edits made under my usern...</td>\n",
       "      <td>0</td>\n",
       "      <td>explanation why the edits made under my userna...</td>\n",
       "    </tr>\n",
       "    <tr>\n",
       "      <th>1</th>\n",
       "      <td>D'aww! He matches this background colour I'm s...</td>\n",
       "      <td>0</td>\n",
       "      <td>d aww he matches this background colour i m se...</td>\n",
       "    </tr>\n",
       "    <tr>\n",
       "      <th>2</th>\n",
       "      <td>Hey man, I'm really not trying to edit war. It...</td>\n",
       "      <td>0</td>\n",
       "      <td>hey man i m really not trying to edit war it s...</td>\n",
       "    </tr>\n",
       "    <tr>\n",
       "      <th>3</th>\n",
       "      <td>\"\\nMore\\nI can't make any real suggestions on ...</td>\n",
       "      <td>0</td>\n",
       "      <td>more i can t make any real suggestions on impr...</td>\n",
       "    </tr>\n",
       "    <tr>\n",
       "      <th>4</th>\n",
       "      <td>You, sir, are my hero. Any chance you remember...</td>\n",
       "      <td>0</td>\n",
       "      <td>you sir are my hero any chance you remember wh...</td>\n",
       "    </tr>\n",
       "    <tr>\n",
       "      <th>...</th>\n",
       "      <td>...</td>\n",
       "      <td>...</td>\n",
       "      <td>...</td>\n",
       "    </tr>\n",
       "    <tr>\n",
       "      <th>159446</th>\n",
       "      <td>\":::::And for the second time of asking, when ...</td>\n",
       "      <td>0</td>\n",
       "      <td>and for the second time of asking when your vi...</td>\n",
       "    </tr>\n",
       "    <tr>\n",
       "      <th>159447</th>\n",
       "      <td>You should be ashamed of yourself \\n\\nThat is ...</td>\n",
       "      <td>0</td>\n",
       "      <td>you should be ashamed of yourself that is a ho...</td>\n",
       "    </tr>\n",
       "    <tr>\n",
       "      <th>159448</th>\n",
       "      <td>Spitzer \\n\\nUmm, theres no actual article for ...</td>\n",
       "      <td>0</td>\n",
       "      <td>spitzer umm theres no actual article for prost...</td>\n",
       "    </tr>\n",
       "    <tr>\n",
       "      <th>159449</th>\n",
       "      <td>And it looks like it was actually you who put ...</td>\n",
       "      <td>0</td>\n",
       "      <td>and it looks like it was actually you who put ...</td>\n",
       "    </tr>\n",
       "    <tr>\n",
       "      <th>159450</th>\n",
       "      <td>\"\\nAnd ... I really don't think you understand...</td>\n",
       "      <td>0</td>\n",
       "      <td>and i really don t think you understand i came...</td>\n",
       "    </tr>\n",
       "  </tbody>\n",
       "</table>\n",
       "<p>159292 rows × 3 columns</p>\n",
       "</div>"
      ],
      "text/plain": [
       "                                                     text  toxic  \\\n",
       "0       Explanation\\nWhy the edits made under my usern...      0   \n",
       "1       D'aww! He matches this background colour I'm s...      0   \n",
       "2       Hey man, I'm really not trying to edit war. It...      0   \n",
       "3       \"\\nMore\\nI can't make any real suggestions on ...      0   \n",
       "4       You, sir, are my hero. Any chance you remember...      0   \n",
       "...                                                   ...    ...   \n",
       "159446  \":::::And for the second time of asking, when ...      0   \n",
       "159447  You should be ashamed of yourself \\n\\nThat is ...      0   \n",
       "159448  Spitzer \\n\\nUmm, theres no actual article for ...      0   \n",
       "159449  And it looks like it was actually you who put ...      0   \n",
       "159450  \"\\nAnd ... I really don't think you understand...      0   \n",
       "\n",
       "                                               clean_text  \n",
       "0       explanation why the edits made under my userna...  \n",
       "1       d aww he matches this background colour i m se...  \n",
       "2       hey man i m really not trying to edit war it s...  \n",
       "3       more i can t make any real suggestions on impr...  \n",
       "4       you sir are my hero any chance you remember wh...  \n",
       "...                                                   ...  \n",
       "159446  and for the second time of asking when your vi...  \n",
       "159447  you should be ashamed of yourself that is a ho...  \n",
       "159448  spitzer umm theres no actual article for prost...  \n",
       "159449  and it looks like it was actually you who put ...  \n",
       "159450  and i really don t think you understand i came...  \n",
       "\n",
       "[159292 rows x 3 columns]"
      ]
     },
     "execution_count": 31,
     "metadata": {},
     "output_type": "execute_result"
    }
   ],
   "source": [
    "df"
   ]
  },
  {
   "cell_type": "code",
   "execution_count": null,
   "metadata": {},
   "outputs": [
    {
     "name": "stderr",
     "output_type": "stream",
     "text": [
      "[nltk_data] Downloading package stopwords to\n",
      "[nltk_data]     C:\\Users\\Skoolz\\AppData\\Roaming\\nltk_data...\n",
      "[nltk_data]   Package stopwords is already up-to-date!\n"
     ]
    },
    {
     "data": {
      "text/plain": [
       "True"
      ]
     },
     "execution_count": 10,
     "metadata": {},
     "output_type": "execute_result"
    }
   ],
   "source": [
    "nltk.download('stopwords')"
   ]
  },
  {
   "cell_type": "code",
   "execution_count": null,
   "metadata": {},
   "outputs": [
    {
     "name": "stderr",
     "output_type": "stream",
     "text": [
      "[nltk_data] Downloading package wordnet to\n",
      "[nltk_data]     C:\\Users\\Skoolz\\AppData\\Roaming\\nltk_data...\n",
      "[nltk_data]   Package wordnet is already up-to-date!\n"
     ]
    },
    {
     "data": {
      "text/plain": [
       "True"
      ]
     },
     "execution_count": 11,
     "metadata": {},
     "output_type": "execute_result"
    }
   ],
   "source": [
    "nltk.download('wordnet')"
   ]
  },
  {
   "cell_type": "code",
   "execution_count": null,
   "metadata": {},
   "outputs": [
    {
     "name": "stderr",
     "output_type": "stream",
     "text": [
      "[nltk_data] Downloading package averaged_perceptron_tagger to\n",
      "[nltk_data]     C:\\Users\\Skoolz\\AppData\\Roaming\\nltk_data...\n",
      "[nltk_data]   Package averaged_perceptron_tagger is already up-to-\n",
      "[nltk_data]       date!\n"
     ]
    },
    {
     "data": {
      "text/plain": [
       "True"
      ]
     },
     "execution_count": 12,
     "metadata": {},
     "output_type": "execute_result"
    }
   ],
   "source": [
    "nltk.download('averaged_perceptron_tagger')"
   ]
  },
  {
   "cell_type": "markdown",
   "metadata": {},
   "source": [
    "Сделаем токенизацию и лемматизацию текста"
   ]
  },
  {
   "cell_type": "code",
   "execution_count": null,
   "metadata": {},
   "outputs": [],
   "source": [
    "tokenizer = WordNetLemmatizer()"
   ]
  },
  {
   "cell_type": "code",
   "execution_count": null,
   "metadata": {},
   "outputs": [],
   "source": [
    "def get_wordnet_pos(treebank_tag):\n",
    "    if treebank_tag.startswith('J'):\n",
    "        return wordnet.ADJ\n",
    "    elif treebank_tag.startswith('V'):\n",
    "        return wordnet.VERB\n",
    "    elif treebank_tag.startswith('N'):\n",
    "        return wordnet.NOUN\n",
    "    elif treebank_tag.startswith('R'):\n",
    "        return wordnet.ADV\n",
    "    else:\n",
    "        return None\n",
    "\n",
    "def lemmatize_words(words):\n",
    "    lemmatizer = WordNetLemmatizer()\n",
    "    lemmatized_words = []\n",
    "\n",
    "    for word, pos in pos_tag(words):\n",
    "        wordnet_pos = get_wordnet_pos(pos) or wordnet.NOUN\n",
    "        lemmatized_words.append(lemmatizer.lemmatize(word, pos=wordnet_pos))\n",
    "\n",
    "    return lemmatized_words"
   ]
  },
  {
   "cell_type": "code",
   "execution_count": null,
   "metadata": {},
   "outputs": [],
   "source": [
    "def convert_text(text):\n",
    "    tokens = word_tokenize(text)\n",
    "    tokens = [token for token in tokens if token not in stopwords.words('english') and token not in string.punctuation]\n",
    "    return ' '.join(lemmatize_words(tokens))"
   ]
  },
  {
   "cell_type": "code",
   "execution_count": null,
   "metadata": {},
   "outputs": [],
   "source": [
    "df['token_text'] = df['clean_text'].apply(convert_text)"
   ]
  },
  {
   "cell_type": "code",
   "execution_count": null,
   "metadata": {},
   "outputs": [
    {
     "data": {
      "text/html": [
       "<div>\n",
       "<style scoped>\n",
       "    .dataframe tbody tr th:only-of-type {\n",
       "        vertical-align: middle;\n",
       "    }\n",
       "\n",
       "    .dataframe tbody tr th {\n",
       "        vertical-align: top;\n",
       "    }\n",
       "\n",
       "    .dataframe thead th {\n",
       "        text-align: right;\n",
       "    }\n",
       "</style>\n",
       "<table border=\"1\" class=\"dataframe\">\n",
       "  <thead>\n",
       "    <tr style=\"text-align: right;\">\n",
       "      <th></th>\n",
       "      <th>text</th>\n",
       "      <th>toxic</th>\n",
       "      <th>clean_text</th>\n",
       "      <th>token_text</th>\n",
       "    </tr>\n",
       "  </thead>\n",
       "  <tbody>\n",
       "    <tr>\n",
       "      <th>0</th>\n",
       "      <td>Explanation\\nWhy the edits made under my usern...</td>\n",
       "      <td>0</td>\n",
       "      <td>explanation why the edits made under my userna...</td>\n",
       "      <td>explanation edits make username hardcore metal...</td>\n",
       "    </tr>\n",
       "    <tr>\n",
       "      <th>1</th>\n",
       "      <td>D'aww! He matches this background colour I'm s...</td>\n",
       "      <td>0</td>\n",
       "      <td>d aww he matches this background colour i m se...</td>\n",
       "      <td>aww match background colour seemingly stuck th...</td>\n",
       "    </tr>\n",
       "    <tr>\n",
       "      <th>2</th>\n",
       "      <td>Hey man, I'm really not trying to edit war. It...</td>\n",
       "      <td>0</td>\n",
       "      <td>hey man i m really not trying to edit war it s...</td>\n",
       "      <td>hey man really try edit war guy constantly rem...</td>\n",
       "    </tr>\n",
       "    <tr>\n",
       "      <th>3</th>\n",
       "      <td>\"\\nMore\\nI can't make any real suggestions on ...</td>\n",
       "      <td>0</td>\n",
       "      <td>more i can t make any real suggestions on impr...</td>\n",
       "      <td>make real suggestion improvement wonder sectio...</td>\n",
       "    </tr>\n",
       "    <tr>\n",
       "      <th>4</th>\n",
       "      <td>You, sir, are my hero. Any chance you remember...</td>\n",
       "      <td>0</td>\n",
       "      <td>you sir are my hero any chance you remember wh...</td>\n",
       "      <td>sir hero chance remember page</td>\n",
       "    </tr>\n",
       "    <tr>\n",
       "      <th>...</th>\n",
       "      <td>...</td>\n",
       "      <td>...</td>\n",
       "      <td>...</td>\n",
       "      <td>...</td>\n",
       "    </tr>\n",
       "    <tr>\n",
       "      <th>159446</th>\n",
       "      <td>\":::::And for the second time of asking, when ...</td>\n",
       "      <td>0</td>\n",
       "      <td>and for the second time of asking when your vi...</td>\n",
       "      <td>second time ask view completely contradict cov...</td>\n",
       "    </tr>\n",
       "    <tr>\n",
       "      <th>159447</th>\n",
       "      <td>You should be ashamed of yourself \\n\\nThat is ...</td>\n",
       "      <td>0</td>\n",
       "      <td>you should be ashamed of yourself that is a ho...</td>\n",
       "      <td>ashamed horrible thing put talk page</td>\n",
       "    </tr>\n",
       "    <tr>\n",
       "      <th>159448</th>\n",
       "      <td>Spitzer \\n\\nUmm, theres no actual article for ...</td>\n",
       "      <td>0</td>\n",
       "      <td>spitzer umm theres no actual article for prost...</td>\n",
       "      <td>spitzer umm there actual article prostitution ...</td>\n",
       "    </tr>\n",
       "    <tr>\n",
       "      <th>159449</th>\n",
       "      <td>And it looks like it was actually you who put ...</td>\n",
       "      <td>0</td>\n",
       "      <td>and it looks like it was actually you who put ...</td>\n",
       "      <td>look like actually put speedy first version de...</td>\n",
       "    </tr>\n",
       "    <tr>\n",
       "      <th>159450</th>\n",
       "      <td>\"\\nAnd ... I really don't think you understand...</td>\n",
       "      <td>0</td>\n",
       "      <td>and i really don t think you understand i came...</td>\n",
       "      <td>really think understand come idea bad right aw...</td>\n",
       "    </tr>\n",
       "  </tbody>\n",
       "</table>\n",
       "<p>159292 rows × 4 columns</p>\n",
       "</div>"
      ],
      "text/plain": [
       "                                                     text  toxic  \\\n",
       "0       Explanation\\nWhy the edits made under my usern...      0   \n",
       "1       D'aww! He matches this background colour I'm s...      0   \n",
       "2       Hey man, I'm really not trying to edit war. It...      0   \n",
       "3       \"\\nMore\\nI can't make any real suggestions on ...      0   \n",
       "4       You, sir, are my hero. Any chance you remember...      0   \n",
       "...                                                   ...    ...   \n",
       "159446  \":::::And for the second time of asking, when ...      0   \n",
       "159447  You should be ashamed of yourself \\n\\nThat is ...      0   \n",
       "159448  Spitzer \\n\\nUmm, theres no actual article for ...      0   \n",
       "159449  And it looks like it was actually you who put ...      0   \n",
       "159450  \"\\nAnd ... I really don't think you understand...      0   \n",
       "\n",
       "                                               clean_text  \\\n",
       "0       explanation why the edits made under my userna...   \n",
       "1       d aww he matches this background colour i m se...   \n",
       "2       hey man i m really not trying to edit war it s...   \n",
       "3       more i can t make any real suggestions on impr...   \n",
       "4       you sir are my hero any chance you remember wh...   \n",
       "...                                                   ...   \n",
       "159446  and for the second time of asking when your vi...   \n",
       "159447  you should be ashamed of yourself that is a ho...   \n",
       "159448  spitzer umm theres no actual article for prost...   \n",
       "159449  and it looks like it was actually you who put ...   \n",
       "159450  and i really don t think you understand i came...   \n",
       "\n",
       "                                               token_text  \n",
       "0       explanation edits make username hardcore metal...  \n",
       "1       aww match background colour seemingly stuck th...  \n",
       "2       hey man really try edit war guy constantly rem...  \n",
       "3       make real suggestion improvement wonder sectio...  \n",
       "4                           sir hero chance remember page  \n",
       "...                                                   ...  \n",
       "159446  second time ask view completely contradict cov...  \n",
       "159447               ashamed horrible thing put talk page  \n",
       "159448  spitzer umm there actual article prostitution ...  \n",
       "159449  look like actually put speedy first version de...  \n",
       "159450  really think understand come idea bad right aw...  \n",
       "\n",
       "[159292 rows x 4 columns]"
      ]
     },
     "execution_count": 17,
     "metadata": {},
     "output_type": "execute_result"
    }
   ],
   "source": [
    "df"
   ]
  },
  {
   "cell_type": "code",
   "execution_count": null,
   "metadata": {},
   "outputs": [],
   "source": [
    "txts = [\n",
    "    df.query('toxic==0')['token_text'],\n",
    "    df.query('toxic==1')['token_text']\n",
    "]"
   ]
  },
  {
   "cell_type": "code",
   "execution_count": null,
   "metadata": {},
   "outputs": [
    {
     "data": {
      "image/png": "[encoded data removed]",
      "text/plain": [
       "<Figure size 1800x800 with 2 Axes>"
      ]
     },
     "metadata": {},
     "output_type": "display_data"
    }
   ],
   "source": [
    "fig, axes = plt.subplots(1, 2, figsize=(18, 8))\n",
    "axes = axes.flatten()\n",
    "most_words = []\n",
    "for i, j in zip(txts, axes):\n",
    "\n",
    "    new = i.str.split()\n",
    "    new = new.values.tolist()\n",
    "    corpus = [word for i in new for word in i]\n",
    "\n",
    "    counter = Counter(corpus)\n",
    "    most = counter.most_common()\n",
    "    x, y = [], []\n",
    "    for word, count in most[:30]:\n",
    "        x.append(word)\n",
    "        y.append(count)\n",
    "    most_words.append(list(zip(*most))[0])\n",
    "\n",
    "    sns.barplot(x=y, y=x, palette=\"viridis\", ax=j)\n",
    "axes[0].set_title('Не токсичные комментарии')\n",
    "\n",
    "axes[1].set_title('Токсичные комментарии')\n",
    "axes[0].set_xlabel('Количество')\n",
    "axes[0].set_ylabel('Токен')\n",
    "axes[1].set_xlabel('Количество')\n",
    "axes[1].set_ylabel('Токен')\n",
    "\n",
    "fig.suptitle('Самые частые униграммы', fontsize=24, va='baseline')\n",
    "plt.tight_layout()"
   ]
  },
  {
   "cell_type": "code",
   "execution_count": null,
   "metadata": {},
   "outputs": [],
   "source": [
    "def simmilarity(most_words,k):\n",
    "    return sum([1 for i in most_words[0][:k] if i in most_words[1][:k]])/len(most_words[0][:k])"
   ]
  },
  {
   "cell_type": "code",
   "execution_count": null,
   "metadata": {},
   "outputs": [
    {
     "data": {
      "text/plain": [
       "0.1"
      ]
     },
     "execution_count": 63,
     "metadata": {},
     "output_type": "execute_result"
    }
   ],
   "source": [
    "simmilarity(most_words,10)"
   ]
  },
  {
   "cell_type": "code",
   "execution_count": null,
   "metadata": {},
   "outputs": [
    {
     "data": {
      "text/plain": [
       "0.0"
      ]
     },
     "execution_count": 64,
     "metadata": {},
     "output_type": "execute_result"
    }
   ],
   "source": [
    "simmilarity(most_words,5)"
   ]
  },
  {
   "cell_type": "markdown",
   "metadata": {},
   "source": [
    "Исходя из графика использования разлиных токенов в комментариях, видна разница между токсичными и не токсичными комментариями. Так в 10 самых часто встречаемых токенов, количество токенов, которые встречаются в обеих группах (токсичные и не токсичные) - 1, а среди 5 самых встречаемых вообще 0"
   ]
  },
  {
   "cell_type": "markdown",
   "metadata": {},
   "source": [
    "### Вывод"
   ]
  },
  {
   "cell_type": "markdown",
   "metadata": {},
   "source": [
    "В данных присутсвует явный дисбаланс классов: доля \"токсичных\" комментариев - 10%. При дальнейшем построении моделей будем учитывать это.</br>\n",
    "Была проведена предобработка данных: текст был очищен от лишних символов. Также была проведена лемматизация и токенизация текста.</br>\n",
    "Исходя из графика использования разлиных токенов в комментариях, видна разница между токсичными и не токсичными комментариями. Так в 10 самых часто встречаемых токенов, количество токенов, которые встречаются в обеих группах (токсичные и не токсичные) - 1, а среди 5 самых встречаемых вообще 0"
   ]
  },
  {
   "cell_type": "markdown",
   "metadata": {},
   "source": [
    "## Обучение <a class=\"anchor\" id=\"chapter4\"></a>"
   ]
  },
  {
   "cell_type": "markdown",
   "metadata": {},
   "source": [
    "### TF-IDF"
   ]
  },
  {
   "cell_type": "markdown",
   "metadata": {},
   "source": [
    "Исходя из полученной ранее информации, можн предположить, что основываясь на появлении слов в тексте, уже можно получить хороший результат в классификации. Поэтому в качестве baseline модели используем tf-idf с логистической регрессией"
   ]
  },
  {
   "cell_type": "code",
   "execution_count": 20,
   "metadata": {},
   "outputs": [],
   "source": [
    "features = list(df['token_text'])"
   ]
  },
  {
   "cell_type": "code",
   "execution_count": 14,
   "metadata": {},
   "outputs": [],
   "source": [
    "target = df['toxic'].to_numpy()"
   ]
  },
  {
   "cell_type": "code",
   "execution_count": 24,
   "metadata": {},
   "outputs": [],
   "source": [
    "features_train,features_test,target_train,target_test = train_test_split(features,target,test_size=0.2,random_state=12345)"
   ]
  },
  {
   "cell_type": "code",
   "execution_count": 25,
   "metadata": {},
   "outputs": [],
   "source": [
    "features_test,features_valid,target_test,target_valid = train_test_split(features_test,target_test,test_size=0.5,random_state=12345)"
   ]
  },
  {
   "cell_type": "code",
   "execution_count": 27,
   "metadata": {},
   "outputs": [],
   "source": [
    "vectorizer = TfidfVectorizer()\n",
    "\n",
    "features_train = vectorizer.fit_transform(features_train)\n",
    "features_valid= vectorizer.transform(features_valid)"
   ]
  },
  {
   "cell_type": "markdown",
   "metadata": {},
   "source": [
    "#### LogisticRegression"
   ]
  },
  {
   "cell_type": "code",
   "execution_count": 28,
   "metadata": {},
   "outputs": [],
   "source": [
    "model = LogisticRegression(solver='liblinear')"
   ]
  },
  {
   "cell_type": "code",
   "execution_count": 29,
   "metadata": {},
   "outputs": [
    {
     "data": {
      "text/html": [
       "<style>#sk-container-id-1 {color: black;}#sk-container-id-1 pre{padding: 0;}#sk-container-id-1 div.sk-toggleable {background-color: white;}#sk-container-id-1 label.sk-toggleable__label {cursor: pointer;display: block;width: 100%;margin-bottom: 0;padding: 0.3em;box-sizing: border-box;text-align: center;}#sk-container-id-1 label.sk-toggleable__label-arrow:before {content: \"▸\";float: left;margin-right: 0.25em;color: #696969;}#sk-container-id-1 label.sk-toggleable__label-arrow:hover:before {color: black;}#sk-container-id-1 div.sk-estimator:hover label.sk-toggleable__label-arrow:before {color: black;}#sk-container-id-1 div.sk-toggleable__content {max-height: 0;max-width: 0;overflow: hidden;text-align: left;background-color: #f0f8ff;}#sk-container-id-1 div.sk-toggleable__content pre {margin: 0.2em;color: black;border-radius: 0.25em;background-color: #f0f8ff;}#sk-container-id-1 input.sk-toggleable__control:checked~div.sk-toggleable__content {max-height: 200px;max-width: 100%;overflow: auto;}#sk-container-id-1 input.sk-toggleable__control:checked~label.sk-toggleable__label-arrow:before {content: \"▾\";}#sk-container-id-1 div.sk-estimator input.sk-toggleable__control:checked~label.sk-toggleable__label {background-color: #d4ebff;}#sk-container-id-1 div.sk-label input.sk-toggleable__control:checked~label.sk-toggleable__label {background-color: #d4ebff;}#sk-container-id-1 input.sk-hidden--visually {border: 0;clip: rect(1px 1px 1px 1px);clip: rect(1px, 1px, 1px, 1px);height: 1px;margin: -1px;overflow: hidden;padding: 0;position: absolute;width: 1px;}#sk-container-id-1 div.sk-estimator {font-family: monospace;background-color: #f0f8ff;border: 1px dotted black;border-radius: 0.25em;box-sizing: border-box;margin-bottom: 0.5em;}#sk-container-id-1 div.sk-estimator:hover {background-color: #d4ebff;}#sk-container-id-1 div.sk-parallel-item::after {content: \"\";width: 100%;border-bottom: 1px solid gray;flex-grow: 1;}#sk-container-id-1 div.sk-label:hover label.sk-toggleable__label {background-color: #d4ebff;}#sk-container-id-1 div.sk-serial::before {content: \"\";position: absolute;border-left: 1px solid gray;box-sizing: border-box;top: 0;bottom: 0;left: 50%;z-index: 0;}#sk-container-id-1 div.sk-serial {display: flex;flex-direction: column;align-items: center;background-color: white;padding-right: 0.2em;padding-left: 0.2em;position: relative;}#sk-container-id-1 div.sk-item {position: relative;z-index: 1;}#sk-container-id-1 div.sk-parallel {display: flex;align-items: stretch;justify-content: center;background-color: white;position: relative;}#sk-container-id-1 div.sk-item::before, #sk-container-id-1 div.sk-parallel-item::before {content: \"\";position: absolute;border-left: 1px solid gray;box-sizing: border-box;top: 0;bottom: 0;left: 50%;z-index: -1;}#sk-container-id-1 div.sk-parallel-item {display: flex;flex-direction: column;z-index: 1;position: relative;background-color: white;}#sk-container-id-1 div.sk-parallel-item:first-child::after {align-self: flex-end;width: 50%;}#sk-container-id-1 div.sk-parallel-item:last-child::after {align-self: flex-start;width: 50%;}#sk-container-id-1 div.sk-parallel-item:only-child::after {width: 0;}#sk-container-id-1 div.sk-dashed-wrapped {border: 1px dashed gray;margin: 0 0.4em 0.5em 0.4em;box-sizing: border-box;padding-bottom: 0.4em;background-color: white;}#sk-container-id-1 div.sk-label label {font-family: monospace;font-weight: bold;display: inline-block;line-height: 1.2em;}#sk-container-id-1 div.sk-label-container {text-align: center;}#sk-container-id-1 div.sk-container {/* jupyter's `normalize.less` sets `[hidden] { display: none; }` but bootstrap.min.css set `[hidden] { display: none !important; }` so we also need the `!important` here to be able to override the default hidden behavior on the sphinx rendered scikit-learn.org. See: https://github.com/scikit-learn/scikit-learn/issues/21755 */display: inline-block !important;position: relative;}#sk-container-id-1 div.sk-text-repr-fallback {display: none;}</style><div id=\"sk-container-id-1\" class=\"sk-top-container\"><div class=\"sk-text-repr-fallback\"><pre>LogisticRegression(solver=&#x27;liblinear&#x27;)</pre><b>In a Jupyter environment, please rerun this cell to show the HTML representation or trust the notebook. <br />On GitHub, the HTML representation is unable to render, please try loading this page with nbviewer.org.</b></div><div class=\"sk-container\" hidden><div class=\"sk-item\"><div class=\"sk-estimator sk-toggleable\"><input class=\"sk-toggleable__control sk-hidden--visually\" id=\"sk-estimator-id-1\" type=\"checkbox\" checked><label for=\"sk-estimator-id-1\" class=\"sk-toggleable__label sk-toggleable__label-arrow\">LogisticRegression</label><div class=\"sk-toggleable__content\"><pre>LogisticRegression(solver=&#x27;liblinear&#x27;)</pre></div></div></div></div></div>"
      ],
      "text/plain": [
       "LogisticRegression(solver='liblinear')"
      ]
     },
     "execution_count": 29,
     "metadata": {},
     "output_type": "execute_result"
    }
   ],
   "source": [
    "model.fit(features_train,target_train)"
   ]
  },
  {
   "cell_type": "code",
   "execution_count": 32,
   "metadata": {},
   "outputs": [
    {
     "name": "stdout",
     "output_type": "stream",
     "text": [
      "0.7667419458911371\n"
     ]
    }
   ],
   "source": [
    "print(f1_score(target_train,model.predict(features_train)))"
   ]
  },
  {
   "cell_type": "code",
   "execution_count": 31,
   "metadata": {},
   "outputs": [
    {
     "name": "stdout",
     "output_type": "stream",
     "text": [
      "0.7521241226449945\n"
     ]
    }
   ],
   "source": [
    "print(f1_score(target_valid,model.predict(features_valid)))"
   ]
  },
  {
   "cell_type": "markdown",
   "metadata": {},
   "source": [
    "Учтем дисбаланс классов"
   ]
  },
  {
   "cell_type": "code",
   "execution_count": 35,
   "metadata": {},
   "outputs": [],
   "source": [
    "best_thr = 0\n",
    "best_score = 0\n",
    "for thr in np.arange(0.1,0.5,0.05):\n",
    "    score = f1_score(target_valid,model.predict_proba(features_valid)[:,1]>thr)\n",
    "    if(score>best_score):\n",
    "        best_score=score\n",
    "        best_thr=thr"
   ]
  },
  {
   "cell_type": "code",
   "execution_count": 38,
   "metadata": {},
   "outputs": [
    {
     "name": "stdout",
     "output_type": "stream",
     "text": [
      "0.45:0.79\n"
     ]
    }
   ],
   "source": [
    "print(f'{thr:.2}:{best_score:.2}')"
   ]
  },
  {
   "cell_type": "markdown",
   "metadata": {},
   "source": [
    "f1 на тренировочной выборке: 0.77</br>\n",
    "f1 на валидационной выборке: 0.79"
   ]
  },
  {
   "cell_type": "markdown",
   "metadata": {},
   "source": [
    "### Использование embedding модели без обучения (см Примечание)"
   ]
  },
  {
   "cell_type": "markdown",
   "metadata": {},
   "source": [
    "Попробуем использовать готовую обученную модель для извелечения признаков. Для этого используем библиотеку SentenceTransformers. Для получения признаков используем модель: `all-distilroberta-v1`"
   ]
  },
  {
   "cell_type": "markdown",
   "metadata": {},
   "source": [
    "Загрузим полученные признаки от модели"
   ]
  },
  {
   "cell_type": "code",
   "execution_count": 32,
   "metadata": {},
   "outputs": [],
   "source": [
    "with open('features.pickle','rb') as output:\n",
    "    features = pickle.load(output)"
   ]
  },
  {
   "cell_type": "code",
   "execution_count": 33,
   "metadata": {},
   "outputs": [
    {
     "data": {
      "text/plain": [
       "(159292, 768)"
      ]
     },
     "execution_count": 33,
     "metadata": {},
     "output_type": "execute_result"
    }
   ],
   "source": [
    "features.shape"
   ]
  },
  {
   "cell_type": "code",
   "execution_count": 34,
   "metadata": {},
   "outputs": [],
   "source": [
    "features_train,features_test,target_train,target_test = train_test_split(features,target,test_size=0.2,random_state=12345)\n",
    "features_test,features_valid,target_test,target_valid = train_test_split(features_test,target_test,test_size=0.5,random_state=12345)"
   ]
  },
  {
   "cell_type": "code",
   "execution_count": 35,
   "metadata": {},
   "outputs": [],
   "source": [
    "features_test_tn = torch.tensor(features_test)"
   ]
  },
  {
   "cell_type": "markdown",
   "metadata": {},
   "source": [
    "#### LogisticRegression"
   ]
  },
  {
   "cell_type": "code",
   "execution_count": 49,
   "metadata": {},
   "outputs": [],
   "source": [
    "model = LogisticRegression(solver='liblinear')"
   ]
  },
  {
   "cell_type": "code",
   "execution_count": 50,
   "metadata": {},
   "outputs": [
    {
     "data": {
      "text/html": [
       "<style>#sk-container-id-2 {color: black;}#sk-container-id-2 pre{padding: 0;}#sk-container-id-2 div.sk-toggleable {background-color: white;}#sk-container-id-2 label.sk-toggleable__label {cursor: pointer;display: block;width: 100%;margin-bottom: 0;padding: 0.3em;box-sizing: border-box;text-align: center;}#sk-container-id-2 label.sk-toggleable__label-arrow:before {content: \"▸\";float: left;margin-right: 0.25em;color: #696969;}#sk-container-id-2 label.sk-toggleable__label-arrow:hover:before {color: black;}#sk-container-id-2 div.sk-estimator:hover label.sk-toggleable__label-arrow:before {color: black;}#sk-container-id-2 div.sk-toggleable__content {max-height: 0;max-width: 0;overflow: hidden;text-align: left;background-color: #f0f8ff;}#sk-container-id-2 div.sk-toggleable__content pre {margin: 0.2em;color: black;border-radius: 0.25em;background-color: #f0f8ff;}#sk-container-id-2 input.sk-toggleable__control:checked~div.sk-toggleable__content {max-height: 200px;max-width: 100%;overflow: auto;}#sk-container-id-2 input.sk-toggleable__control:checked~label.sk-toggleable__label-arrow:before {content: \"▾\";}#sk-container-id-2 div.sk-estimator input.sk-toggleable__control:checked~label.sk-toggleable__label {background-color: #d4ebff;}#sk-container-id-2 div.sk-label input.sk-toggleable__control:checked~label.sk-toggleable__label {background-color: #d4ebff;}#sk-container-id-2 input.sk-hidden--visually {border: 0;clip: rect(1px 1px 1px 1px);clip: rect(1px, 1px, 1px, 1px);height: 1px;margin: -1px;overflow: hidden;padding: 0;position: absolute;width: 1px;}#sk-container-id-2 div.sk-estimator {font-family: monospace;background-color: #f0f8ff;border: 1px dotted black;border-radius: 0.25em;box-sizing: border-box;margin-bottom: 0.5em;}#sk-container-id-2 div.sk-estimator:hover {background-color: #d4ebff;}#sk-container-id-2 div.sk-parallel-item::after {content: \"\";width: 100%;border-bottom: 1px solid gray;flex-grow: 1;}#sk-container-id-2 div.sk-label:hover label.sk-toggleable__label {background-color: #d4ebff;}#sk-container-id-2 div.sk-serial::before {content: \"\";position: absolute;border-left: 1px solid gray;box-sizing: border-box;top: 0;bottom: 0;left: 50%;z-index: 0;}#sk-container-id-2 div.sk-serial {display: flex;flex-direction: column;align-items: center;background-color: white;padding-right: 0.2em;padding-left: 0.2em;position: relative;}#sk-container-id-2 div.sk-item {position: relative;z-index: 1;}#sk-container-id-2 div.sk-parallel {display: flex;align-items: stretch;justify-content: center;background-color: white;position: relative;}#sk-container-id-2 div.sk-item::before, #sk-container-id-2 div.sk-parallel-item::before {content: \"\";position: absolute;border-left: 1px solid gray;box-sizing: border-box;top: 0;bottom: 0;left: 50%;z-index: -1;}#sk-container-id-2 div.sk-parallel-item {display: flex;flex-direction: column;z-index: 1;position: relative;background-color: white;}#sk-container-id-2 div.sk-parallel-item:first-child::after {align-self: flex-end;width: 50%;}#sk-container-id-2 div.sk-parallel-item:last-child::after {align-self: flex-start;width: 50%;}#sk-container-id-2 div.sk-parallel-item:only-child::after {width: 0;}#sk-container-id-2 div.sk-dashed-wrapped {border: 1px dashed gray;margin: 0 0.4em 0.5em 0.4em;box-sizing: border-box;padding-bottom: 0.4em;background-color: white;}#sk-container-id-2 div.sk-label label {font-family: monospace;font-weight: bold;display: inline-block;line-height: 1.2em;}#sk-container-id-2 div.sk-label-container {text-align: center;}#sk-container-id-2 div.sk-container {/* jupyter's `normalize.less` sets `[hidden] { display: none; }` but bootstrap.min.css set `[hidden] { display: none !important; }` so we also need the `!important` here to be able to override the default hidden behavior on the sphinx rendered scikit-learn.org. See: https://github.com/scikit-learn/scikit-learn/issues/21755 */display: inline-block !important;position: relative;}#sk-container-id-2 div.sk-text-repr-fallback {display: none;}</style><div id=\"sk-container-id-2\" class=\"sk-top-container\"><div class=\"sk-text-repr-fallback\"><pre>LogisticRegression(solver=&#x27;liblinear&#x27;)</pre><b>In a Jupyter environment, please rerun this cell to show the HTML representation or trust the notebook. <br />On GitHub, the HTML representation is unable to render, please try loading this page with nbviewer.org.</b></div><div class=\"sk-container\" hidden><div class=\"sk-item\"><div class=\"sk-estimator sk-toggleable\"><input class=\"sk-toggleable__control sk-hidden--visually\" id=\"sk-estimator-id-2\" type=\"checkbox\" checked><label for=\"sk-estimator-id-2\" class=\"sk-toggleable__label sk-toggleable__label-arrow\">LogisticRegression</label><div class=\"sk-toggleable__content\"><pre>LogisticRegression(solver=&#x27;liblinear&#x27;)</pre></div></div></div></div></div>"
      ],
      "text/plain": [
       "LogisticRegression(solver='liblinear')"
      ]
     },
     "execution_count": 50,
     "metadata": {},
     "output_type": "execute_result"
    }
   ],
   "source": [
    "model.fit(features_train,target_train)"
   ]
  },
  {
   "cell_type": "code",
   "execution_count": 51,
   "metadata": {},
   "outputs": [
    {
     "name": "stdout",
     "output_type": "stream",
     "text": [
      "0.7401236462489587\n"
     ]
    }
   ],
   "source": [
    "print(f1_score(target_train,model.predict(features_train)))"
   ]
  },
  {
   "cell_type": "code",
   "execution_count": 52,
   "metadata": {},
   "outputs": [
    {
     "name": "stdout",
     "output_type": "stream",
     "text": [
      "0.7228915662650601\n"
     ]
    }
   ],
   "source": [
    "print(f1_score(target_valid,model.predict(features_valid)))"
   ]
  },
  {
   "cell_type": "code",
   "execution_count": 53,
   "metadata": {},
   "outputs": [],
   "source": [
    "best_thr = 0\n",
    "best_score = 0\n",
    "for thr in np.arange(0.1,0.5,0.05):\n",
    "    score = f1_score(target_valid,model.predict_proba(features_valid)[:,1]>thr)\n",
    "    if(score>best_score):\n",
    "        best_score=score\n",
    "        best_thr=thr"
   ]
  },
  {
   "cell_type": "code",
   "execution_count": 54,
   "metadata": {
    "scrolled": true
   },
   "outputs": [
    {
     "name": "stdout",
     "output_type": "stream",
     "text": [
      "0.45:0.75\n"
     ]
    }
   ],
   "source": [
    "print(f'{thr:.2}:{best_score:.2}')"
   ]
  },
  {
   "cell_type": "markdown",
   "metadata": {},
   "source": [
    "f1 на тренировочной выборке: 0.74</br>\n",
    "f1 на валидационной выборке: 0.75"
   ]
  },
  {
   "cell_type": "markdown",
   "metadata": {},
   "source": [
    "#### CatBoostClassifier"
   ]
  },
  {
   "cell_type": "code",
   "execution_count": 60,
   "metadata": {},
   "outputs": [],
   "source": [
    "model = CatBoostClassifier(iterations=1000,random_state=12345)"
   ]
  },
  {
   "cell_type": "code",
   "execution_count": 61,
   "metadata": {},
   "outputs": [
    {
     "name": "stdout",
     "output_type": "stream",
     "text": [
      "Learning rate set to 0.081637\n",
      "0:\tlearn: 0.5973517\ttotal: 173ms\tremaining: 2m 52s\n",
      "1:\tlearn: 0.5187675\ttotal: 331ms\tremaining: 2m 45s\n",
      "2:\tlearn: 0.4563965\ttotal: 491ms\tremaining: 2m 43s\n",
      "3:\tlearn: 0.4107674\ttotal: 647ms\tremaining: 2m 41s\n",
      "4:\tlearn: 0.3716888\ttotal: 800ms\tremaining: 2m 39s\n",
      "5:\tlearn: 0.3412925\ttotal: 956ms\tremaining: 2m 38s\n",
      "6:\tlearn: 0.3166185\ttotal: 1.11s\tremaining: 2m 37s\n",
      "7:\tlearn: 0.2970755\ttotal: 1.28s\tremaining: 2m 38s\n",
      "8:\tlearn: 0.2822311\ttotal: 1.46s\tremaining: 2m 41s\n",
      "9:\tlearn: 0.2688913\ttotal: 1.62s\tremaining: 2m 40s\n",
      "10:\tlearn: 0.2573813\ttotal: 1.78s\tremaining: 2m 39s\n",
      "11:\tlearn: 0.2478307\ttotal: 1.94s\tremaining: 2m 39s\n",
      "12:\tlearn: 0.2398366\ttotal: 2.09s\tremaining: 2m 39s\n",
      "13:\tlearn: 0.2333702\ttotal: 2.25s\tremaining: 2m 38s\n",
      "14:\tlearn: 0.2271846\ttotal: 2.4s\tremaining: 2m 37s\n",
      "15:\tlearn: 0.2225618\ttotal: 2.56s\tremaining: 2m 37s\n",
      "16:\tlearn: 0.2173920\ttotal: 2.71s\tremaining: 2m 36s\n",
      "17:\tlearn: 0.2135219\ttotal: 2.86s\tremaining: 2m 36s\n",
      "18:\tlearn: 0.2100310\ttotal: 3.01s\tremaining: 2m 35s\n",
      "19:\tlearn: 0.2064681\ttotal: 3.17s\tremaining: 2m 35s\n",
      "20:\tlearn: 0.2037309\ttotal: 3.31s\tremaining: 2m 34s\n",
      "21:\tlearn: 0.2004714\ttotal: 3.47s\tremaining: 2m 34s\n",
      "22:\tlearn: 0.1979440\ttotal: 3.62s\tremaining: 2m 33s\n",
      "23:\tlearn: 0.1959369\ttotal: 3.78s\tremaining: 2m 33s\n",
      "24:\tlearn: 0.1941290\ttotal: 3.97s\tremaining: 2m 34s\n",
      "25:\tlearn: 0.1921886\ttotal: 4.13s\tremaining: 2m 34s\n",
      "26:\tlearn: 0.1906112\ttotal: 4.29s\tremaining: 2m 34s\n",
      "27:\tlearn: 0.1888628\ttotal: 4.46s\tremaining: 2m 34s\n",
      "28:\tlearn: 0.1872548\ttotal: 4.63s\tremaining: 2m 34s\n",
      "29:\tlearn: 0.1860153\ttotal: 4.78s\tremaining: 2m 34s\n",
      "30:\tlearn: 0.1847981\ttotal: 4.93s\tremaining: 2m 34s\n",
      "31:\tlearn: 0.1835834\ttotal: 5.08s\tremaining: 2m 33s\n",
      "32:\tlearn: 0.1823437\ttotal: 5.23s\tremaining: 2m 33s\n",
      "33:\tlearn: 0.1811657\ttotal: 5.38s\tremaining: 2m 33s\n",
      "34:\tlearn: 0.1801192\ttotal: 5.54s\tremaining: 2m 32s\n",
      "35:\tlearn: 0.1790709\ttotal: 5.7s\tremaining: 2m 32s\n",
      "36:\tlearn: 0.1780506\ttotal: 5.86s\tremaining: 2m 32s\n",
      "37:\tlearn: 0.1770811\ttotal: 6.04s\tremaining: 2m 33s\n",
      "38:\tlearn: 0.1760586\ttotal: 6.23s\tremaining: 2m 33s\n",
      "39:\tlearn: 0.1752054\ttotal: 6.42s\tremaining: 2m 33s\n",
      "40:\tlearn: 0.1744786\ttotal: 6.6s\tremaining: 2m 34s\n",
      "41:\tlearn: 0.1736072\ttotal: 6.84s\tremaining: 2m 36s\n",
      "42:\tlearn: 0.1728481\ttotal: 7.02s\tremaining: 2m 36s\n",
      "43:\tlearn: 0.1719185\ttotal: 7.22s\tremaining: 2m 36s\n",
      "44:\tlearn: 0.1712785\ttotal: 7.39s\tremaining: 2m 36s\n",
      "45:\tlearn: 0.1705721\ttotal: 7.58s\tremaining: 2m 37s\n",
      "46:\tlearn: 0.1698042\ttotal: 7.76s\tremaining: 2m 37s\n",
      "47:\tlearn: 0.1692551\ttotal: 7.93s\tremaining: 2m 37s\n",
      "48:\tlearn: 0.1685799\ttotal: 8.13s\tremaining: 2m 37s\n",
      "49:\tlearn: 0.1680412\ttotal: 8.32s\tremaining: 2m 38s\n",
      "50:\tlearn: 0.1673504\ttotal: 8.49s\tremaining: 2m 38s\n",
      "51:\tlearn: 0.1666495\ttotal: 8.68s\tremaining: 2m 38s\n",
      "52:\tlearn: 0.1660497\ttotal: 8.86s\tremaining: 2m 38s\n",
      "53:\tlearn: 0.1655328\ttotal: 9.04s\tremaining: 2m 38s\n",
      "54:\tlearn: 0.1650237\ttotal: 9.21s\tremaining: 2m 38s\n",
      "55:\tlearn: 0.1644601\ttotal: 9.4s\tremaining: 2m 38s\n",
      "56:\tlearn: 0.1639523\ttotal: 9.58s\tremaining: 2m 38s\n",
      "57:\tlearn: 0.1634630\ttotal: 9.77s\tremaining: 2m 38s\n",
      "58:\tlearn: 0.1629344\ttotal: 9.94s\tremaining: 2m 38s\n",
      "59:\tlearn: 0.1624665\ttotal: 10.1s\tremaining: 2m 38s\n",
      "60:\tlearn: 0.1620144\ttotal: 10.3s\tremaining: 2m 38s\n",
      "61:\tlearn: 0.1615760\ttotal: 10.5s\tremaining: 2m 38s\n",
      "62:\tlearn: 0.1612152\ttotal: 10.6s\tremaining: 2m 38s\n",
      "63:\tlearn: 0.1607740\ttotal: 10.8s\tremaining: 2m 38s\n",
      "64:\tlearn: 0.1604071\ttotal: 11s\tremaining: 2m 38s\n",
      "65:\tlearn: 0.1600149\ttotal: 11.2s\tremaining: 2m 37s\n",
      "66:\tlearn: 0.1595967\ttotal: 11.3s\tremaining: 2m 37s\n",
      "67:\tlearn: 0.1592183\ttotal: 11.5s\tremaining: 2m 37s\n",
      "68:\tlearn: 0.1588790\ttotal: 11.7s\tremaining: 2m 37s\n",
      "69:\tlearn: 0.1585082\ttotal: 11.8s\tremaining: 2m 36s\n",
      "70:\tlearn: 0.1581413\ttotal: 12s\tremaining: 2m 36s\n",
      "71:\tlearn: 0.1576924\ttotal: 12.1s\tremaining: 2m 36s\n",
      "72:\tlearn: 0.1573292\ttotal: 12.3s\tremaining: 2m 35s\n",
      "73:\tlearn: 0.1570540\ttotal: 12.4s\tremaining: 2m 35s\n",
      "74:\tlearn: 0.1567013\ttotal: 12.6s\tremaining: 2m 35s\n",
      "75:\tlearn: 0.1563636\ttotal: 12.8s\tremaining: 2m 35s\n",
      "76:\tlearn: 0.1560522\ttotal: 12.9s\tremaining: 2m 34s\n",
      "77:\tlearn: 0.1557379\ttotal: 13.1s\tremaining: 2m 34s\n",
      "78:\tlearn: 0.1554013\ttotal: 13.2s\tremaining: 2m 34s\n",
      "79:\tlearn: 0.1550796\ttotal: 13.4s\tremaining: 2m 34s\n",
      "80:\tlearn: 0.1547565\ttotal: 13.6s\tremaining: 2m 33s\n",
      "81:\tlearn: 0.1544579\ttotal: 13.7s\tremaining: 2m 33s\n",
      "82:\tlearn: 0.1541002\ttotal: 13.9s\tremaining: 2m 33s\n",
      "83:\tlearn: 0.1538069\ttotal: 14.1s\tremaining: 2m 33s\n",
      "84:\tlearn: 0.1534801\ttotal: 14.2s\tremaining: 2m 32s\n",
      "85:\tlearn: 0.1531619\ttotal: 14.4s\tremaining: 2m 32s\n",
      "86:\tlearn: 0.1528981\ttotal: 14.5s\tremaining: 2m 32s\n",
      "87:\tlearn: 0.1526542\ttotal: 14.7s\tremaining: 2m 32s\n",
      "88:\tlearn: 0.1523856\ttotal: 14.8s\tremaining: 2m 31s\n",
      "89:\tlearn: 0.1521062\ttotal: 15s\tremaining: 2m 31s\n",
      "90:\tlearn: 0.1518227\ttotal: 15.1s\tremaining: 2m 31s\n",
      "91:\tlearn: 0.1515053\ttotal: 15.3s\tremaining: 2m 31s\n",
      "92:\tlearn: 0.1512735\ttotal: 15.5s\tremaining: 2m 30s\n",
      "93:\tlearn: 0.1509688\ttotal: 15.6s\tremaining: 2m 30s\n",
      "94:\tlearn: 0.1507334\ttotal: 15.8s\tremaining: 2m 30s\n",
      "95:\tlearn: 0.1504882\ttotal: 15.9s\tremaining: 2m 30s\n",
      "96:\tlearn: 0.1502762\ttotal: 16.1s\tremaining: 2m 29s\n",
      "97:\tlearn: 0.1500185\ttotal: 16.3s\tremaining: 2m 29s\n",
      "98:\tlearn: 0.1497746\ttotal: 16.4s\tremaining: 2m 29s\n",
      "99:\tlearn: 0.1495782\ttotal: 16.6s\tremaining: 2m 29s\n",
      "100:\tlearn: 0.1493255\ttotal: 16.8s\tremaining: 2m 29s\n",
      "101:\tlearn: 0.1490911\ttotal: 17s\tremaining: 2m 29s\n",
      "102:\tlearn: 0.1488622\ttotal: 17.1s\tremaining: 2m 29s\n",
      "103:\tlearn: 0.1486023\ttotal: 17.3s\tremaining: 2m 29s\n",
      "104:\tlearn: 0.1484134\ttotal: 17.5s\tremaining: 2m 28s\n",
      "105:\tlearn: 0.1482076\ttotal: 17.6s\tremaining: 2m 28s\n",
      "106:\tlearn: 0.1479547\ttotal: 17.8s\tremaining: 2m 28s\n",
      "107:\tlearn: 0.1477420\ttotal: 17.9s\tremaining: 2m 28s\n",
      "108:\tlearn: 0.1475671\ttotal: 18.1s\tremaining: 2m 28s\n",
      "109:\tlearn: 0.1473482\ttotal: 18.3s\tremaining: 2m 27s\n",
      "110:\tlearn: 0.1471745\ttotal: 18.4s\tremaining: 2m 27s\n",
      "111:\tlearn: 0.1469804\ttotal: 18.6s\tremaining: 2m 27s\n",
      "112:\tlearn: 0.1467786\ttotal: 18.8s\tremaining: 2m 27s\n",
      "113:\tlearn: 0.1465685\ttotal: 18.9s\tremaining: 2m 27s\n",
      "114:\tlearn: 0.1463594\ttotal: 19.1s\tremaining: 2m 27s\n",
      "115:\tlearn: 0.1461481\ttotal: 19.3s\tremaining: 2m 26s\n",
      "116:\tlearn: 0.1459766\ttotal: 19.4s\tremaining: 2m 26s\n",
      "117:\tlearn: 0.1457651\ttotal: 19.6s\tremaining: 2m 26s\n",
      "118:\tlearn: 0.1455906\ttotal: 19.8s\tremaining: 2m 26s\n",
      "119:\tlearn: 0.1454121\ttotal: 19.9s\tremaining: 2m 26s\n",
      "120:\tlearn: 0.1452173\ttotal: 20.1s\tremaining: 2m 25s\n",
      "121:\tlearn: 0.1450124\ttotal: 20.3s\tremaining: 2m 25s\n",
      "122:\tlearn: 0.1448112\ttotal: 20.4s\tremaining: 2m 25s\n",
      "123:\tlearn: 0.1446125\ttotal: 20.6s\tremaining: 2m 25s\n",
      "124:\tlearn: 0.1444160\ttotal: 20.8s\tremaining: 2m 25s\n",
      "125:\tlearn: 0.1442389\ttotal: 20.9s\tremaining: 2m 25s\n",
      "126:\tlearn: 0.1440599\ttotal: 21.1s\tremaining: 2m 24s\n",
      "127:\tlearn: 0.1438685\ttotal: 21.2s\tremaining: 2m 24s\n",
      "128:\tlearn: 0.1437144\ttotal: 21.4s\tremaining: 2m 24s\n",
      "129:\tlearn: 0.1435373\ttotal: 21.5s\tremaining: 2m 24s\n",
      "130:\tlearn: 0.1433532\ttotal: 21.7s\tremaining: 2m 23s\n",
      "131:\tlearn: 0.1431687\ttotal: 21.8s\tremaining: 2m 23s\n",
      "132:\tlearn: 0.1429964\ttotal: 22s\tremaining: 2m 23s\n",
      "133:\tlearn: 0.1428153\ttotal: 22.2s\tremaining: 2m 23s\n",
      "134:\tlearn: 0.1426178\ttotal: 22.3s\tremaining: 2m 22s\n",
      "135:\tlearn: 0.1424400\ttotal: 22.5s\tremaining: 2m 22s\n",
      "136:\tlearn: 0.1422669\ttotal: 22.6s\tremaining: 2m 22s\n",
      "137:\tlearn: 0.1420902\ttotal: 22.8s\tremaining: 2m 22s\n",
      "138:\tlearn: 0.1419467\ttotal: 23s\tremaining: 2m 22s\n",
      "139:\tlearn: 0.1417766\ttotal: 23.1s\tremaining: 2m 21s\n",
      "140:\tlearn: 0.1416310\ttotal: 23.3s\tremaining: 2m 21s\n",
      "141:\tlearn: 0.1414491\ttotal: 23.4s\tremaining: 2m 21s\n",
      "142:\tlearn: 0.1412601\ttotal: 23.6s\tremaining: 2m 21s\n",
      "143:\tlearn: 0.1410938\ttotal: 23.7s\tremaining: 2m 21s\n",
      "144:\tlearn: 0.1409264\ttotal: 23.9s\tremaining: 2m 20s\n",
      "145:\tlearn: 0.1407578\ttotal: 24.1s\tremaining: 2m 20s\n",
      "146:\tlearn: 0.1406085\ttotal: 24.2s\tremaining: 2m 20s\n",
      "147:\tlearn: 0.1404200\ttotal: 24.4s\tremaining: 2m 20s\n",
      "148:\tlearn: 0.1402489\ttotal: 24.5s\tremaining: 2m 20s\n",
      "149:\tlearn: 0.1400509\ttotal: 24.7s\tremaining: 2m 19s\n",
      "150:\tlearn: 0.1398768\ttotal: 24.8s\tremaining: 2m 19s\n",
      "151:\tlearn: 0.1396971\ttotal: 25s\tremaining: 2m 19s\n",
      "152:\tlearn: 0.1395293\ttotal: 25.1s\tremaining: 2m 19s\n",
      "153:\tlearn: 0.1393727\ttotal: 25.3s\tremaining: 2m 19s\n",
      "154:\tlearn: 0.1392010\ttotal: 25.5s\tremaining: 2m 18s\n",
      "155:\tlearn: 0.1390253\ttotal: 25.6s\tremaining: 2m 18s\n",
      "156:\tlearn: 0.1388514\ttotal: 25.8s\tremaining: 2m 18s\n",
      "157:\tlearn: 0.1386624\ttotal: 25.9s\tremaining: 2m 18s\n",
      "158:\tlearn: 0.1385155\ttotal: 26.1s\tremaining: 2m 18s\n",
      "159:\tlearn: 0.1383468\ttotal: 26.3s\tremaining: 2m 17s\n",
      "160:\tlearn: 0.1381737\ttotal: 26.4s\tremaining: 2m 17s\n",
      "161:\tlearn: 0.1380168\ttotal: 26.6s\tremaining: 2m 17s\n",
      "162:\tlearn: 0.1378589\ttotal: 26.8s\tremaining: 2m 17s\n",
      "163:\tlearn: 0.1377056\ttotal: 26.9s\tremaining: 2m 17s\n",
      "164:\tlearn: 0.1375412\ttotal: 27.1s\tremaining: 2m 17s\n",
      "165:\tlearn: 0.1373773\ttotal: 27.2s\tremaining: 2m 16s\n",
      "166:\tlearn: 0.1371956\ttotal: 27.4s\tremaining: 2m 16s\n",
      "167:\tlearn: 0.1370492\ttotal: 27.5s\tremaining: 2m 16s\n",
      "168:\tlearn: 0.1368995\ttotal: 27.7s\tremaining: 2m 16s\n",
      "169:\tlearn: 0.1367349\ttotal: 27.9s\tremaining: 2m 16s\n",
      "170:\tlearn: 0.1365807\ttotal: 28.1s\tremaining: 2m 16s\n",
      "171:\tlearn: 0.1364106\ttotal: 28.2s\tremaining: 2m 15s\n",
      "172:\tlearn: 0.1362530\ttotal: 28.4s\tremaining: 2m 15s\n",
      "173:\tlearn: 0.1361068\ttotal: 28.6s\tremaining: 2m 15s\n",
      "174:\tlearn: 0.1359716\ttotal: 28.7s\tremaining: 2m 15s\n",
      "175:\tlearn: 0.1358123\ttotal: 28.9s\tremaining: 2m 15s\n",
      "176:\tlearn: 0.1356755\ttotal: 29s\tremaining: 2m 14s\n",
      "177:\tlearn: 0.1355169\ttotal: 29.2s\tremaining: 2m 14s\n",
      "178:\tlearn: 0.1353481\ttotal: 29.3s\tremaining: 2m 14s\n",
      "179:\tlearn: 0.1351709\ttotal: 29.5s\tremaining: 2m 14s\n",
      "180:\tlearn: 0.1350348\ttotal: 29.6s\tremaining: 2m 14s\n",
      "181:\tlearn: 0.1349014\ttotal: 29.8s\tremaining: 2m 13s\n",
      "182:\tlearn: 0.1347375\ttotal: 29.9s\tremaining: 2m 13s\n",
      "183:\tlearn: 0.1345648\ttotal: 30.1s\tremaining: 2m 13s\n",
      "184:\tlearn: 0.1344096\ttotal: 30.3s\tremaining: 2m 13s\n",
      "185:\tlearn: 0.1342452\ttotal: 30.4s\tremaining: 2m 13s\n",
      "186:\tlearn: 0.1340826\ttotal: 30.6s\tremaining: 2m 12s\n",
      "187:\tlearn: 0.1339495\ttotal: 30.7s\tremaining: 2m 12s\n",
      "188:\tlearn: 0.1338190\ttotal: 30.9s\tremaining: 2m 12s\n",
      "189:\tlearn: 0.1336671\ttotal: 31s\tremaining: 2m 12s\n",
      "190:\tlearn: 0.1335033\ttotal: 31.2s\tremaining: 2m 12s\n",
      "191:\tlearn: 0.1333965\ttotal: 31.4s\tremaining: 2m 11s\n",
      "192:\tlearn: 0.1332468\ttotal: 31.5s\tremaining: 2m 11s\n",
      "193:\tlearn: 0.1331094\ttotal: 31.7s\tremaining: 2m 11s\n",
      "194:\tlearn: 0.1329748\ttotal: 31.8s\tremaining: 2m 11s\n",
      "195:\tlearn: 0.1328525\ttotal: 32s\tremaining: 2m 11s\n",
      "196:\tlearn: 0.1327253\ttotal: 32.1s\tremaining: 2m 10s\n",
      "197:\tlearn: 0.1326006\ttotal: 32.3s\tremaining: 2m 10s\n",
      "198:\tlearn: 0.1324389\ttotal: 32.4s\tremaining: 2m 10s\n",
      "199:\tlearn: 0.1322815\ttotal: 32.6s\tremaining: 2m 10s\n",
      "200:\tlearn: 0.1321378\ttotal: 32.7s\tremaining: 2m 10s\n",
      "201:\tlearn: 0.1320157\ttotal: 32.9s\tremaining: 2m 9s\n",
      "202:\tlearn: 0.1318873\ttotal: 33s\tremaining: 2m 9s\n",
      "203:\tlearn: 0.1317479\ttotal: 33.2s\tremaining: 2m 9s\n",
      "204:\tlearn: 0.1316146\ttotal: 33.4s\tremaining: 2m 9s\n",
      "205:\tlearn: 0.1314706\ttotal: 33.5s\tremaining: 2m 9s\n",
      "206:\tlearn: 0.1313210\ttotal: 33.7s\tremaining: 2m 8s\n",
      "207:\tlearn: 0.1311806\ttotal: 33.8s\tremaining: 2m 8s\n",
      "208:\tlearn: 0.1310170\ttotal: 34s\tremaining: 2m 8s\n",
      "209:\tlearn: 0.1308848\ttotal: 34.1s\tremaining: 2m 8s\n",
      "210:\tlearn: 0.1307311\ttotal: 34.3s\tremaining: 2m 8s\n",
      "211:\tlearn: 0.1306015\ttotal: 34.4s\tremaining: 2m 7s\n",
      "212:\tlearn: 0.1305087\ttotal: 34.6s\tremaining: 2m 7s\n",
      "213:\tlearn: 0.1303667\ttotal: 34.7s\tremaining: 2m 7s\n",
      "214:\tlearn: 0.1302355\ttotal: 34.9s\tremaining: 2m 7s\n",
      "215:\tlearn: 0.1301108\ttotal: 35s\tremaining: 2m 7s\n",
      "216:\tlearn: 0.1299935\ttotal: 35.2s\tremaining: 2m 6s\n",
      "217:\tlearn: 0.1298505\ttotal: 35.3s\tremaining: 2m 6s\n",
      "218:\tlearn: 0.1297095\ttotal: 35.5s\tremaining: 2m 6s\n",
      "219:\tlearn: 0.1295692\ttotal: 35.6s\tremaining: 2m 6s\n",
      "220:\tlearn: 0.1294579\ttotal: 35.8s\tremaining: 2m 6s\n",
      "221:\tlearn: 0.1293135\ttotal: 35.9s\tremaining: 2m 5s\n",
      "222:\tlearn: 0.1292123\ttotal: 36.1s\tremaining: 2m 5s\n",
      "223:\tlearn: 0.1290732\ttotal: 36.2s\tremaining: 2m 5s\n",
      "224:\tlearn: 0.1289646\ttotal: 36.4s\tremaining: 2m 5s\n",
      "225:\tlearn: 0.1288309\ttotal: 36.6s\tremaining: 2m 5s\n",
      "226:\tlearn: 0.1286802\ttotal: 36.7s\tremaining: 2m 5s\n",
      "227:\tlearn: 0.1285639\ttotal: 36.9s\tremaining: 2m 4s\n",
      "228:\tlearn: 0.1284472\ttotal: 37s\tremaining: 2m 4s\n",
      "229:\tlearn: 0.1283340\ttotal: 37.2s\tremaining: 2m 4s\n",
      "230:\tlearn: 0.1282243\ttotal: 37.4s\tremaining: 2m 4s\n",
      "231:\tlearn: 0.1280799\ttotal: 37.5s\tremaining: 2m 4s\n",
      "232:\tlearn: 0.1279772\ttotal: 37.7s\tremaining: 2m 3s\n",
      "233:\tlearn: 0.1278360\ttotal: 37.8s\tremaining: 2m 3s\n",
      "234:\tlearn: 0.1277112\ttotal: 38s\tremaining: 2m 3s\n",
      "235:\tlearn: 0.1276146\ttotal: 38.1s\tremaining: 2m 3s\n",
      "236:\tlearn: 0.1274984\ttotal: 38.3s\tremaining: 2m 3s\n",
      "237:\tlearn: 0.1273690\ttotal: 38.4s\tremaining: 2m 3s\n",
      "238:\tlearn: 0.1272474\ttotal: 38.6s\tremaining: 2m 2s\n",
      "239:\tlearn: 0.1271135\ttotal: 38.8s\tremaining: 2m 2s\n",
      "240:\tlearn: 0.1269875\ttotal: 38.9s\tremaining: 2m 2s\n",
      "241:\tlearn: 0.1268679\ttotal: 39.1s\tremaining: 2m 2s\n",
      "242:\tlearn: 0.1267683\ttotal: 39.2s\tremaining: 2m 2s\n",
      "243:\tlearn: 0.1266465\ttotal: 39.4s\tremaining: 2m 1s\n",
      "244:\tlearn: 0.1265357\ttotal: 39.5s\tremaining: 2m 1s\n",
      "245:\tlearn: 0.1264210\ttotal: 39.7s\tremaining: 2m 1s\n",
      "246:\tlearn: 0.1263083\ttotal: 39.8s\tremaining: 2m 1s\n",
      "247:\tlearn: 0.1261803\ttotal: 40s\tremaining: 2m 1s\n",
      "248:\tlearn: 0.1260460\ttotal: 40.1s\tremaining: 2m 1s\n",
      "249:\tlearn: 0.1259318\ttotal: 40.3s\tremaining: 2m\n",
      "250:\tlearn: 0.1257921\ttotal: 40.4s\tremaining: 2m\n",
      "251:\tlearn: 0.1257150\ttotal: 40.6s\tremaining: 2m\n",
      "252:\tlearn: 0.1255841\ttotal: 40.7s\tremaining: 2m\n",
      "253:\tlearn: 0.1254517\ttotal: 40.9s\tremaining: 2m\n",
      "254:\tlearn: 0.1253227\ttotal: 41.1s\tremaining: 1m 59s\n",
      "255:\tlearn: 0.1251810\ttotal: 41.2s\tremaining: 1m 59s\n",
      "256:\tlearn: 0.1250692\ttotal: 41.4s\tremaining: 1m 59s\n",
      "257:\tlearn: 0.1249460\ttotal: 41.6s\tremaining: 1m 59s\n",
      "258:\tlearn: 0.1248230\ttotal: 41.7s\tremaining: 1m 59s\n",
      "259:\tlearn: 0.1247006\ttotal: 41.9s\tremaining: 1m 59s\n",
      "260:\tlearn: 0.1245746\ttotal: 42s\tremaining: 1m 58s\n",
      "261:\tlearn: 0.1244366\ttotal: 42.2s\tremaining: 1m 58s\n",
      "262:\tlearn: 0.1243080\ttotal: 42.4s\tremaining: 1m 58s\n",
      "263:\tlearn: 0.1241837\ttotal: 42.5s\tremaining: 1m 58s\n",
      "264:\tlearn: 0.1240970\ttotal: 42.7s\tremaining: 1m 58s\n",
      "265:\tlearn: 0.1240079\ttotal: 42.8s\tremaining: 1m 58s\n",
      "266:\tlearn: 0.1238845\ttotal: 43s\tremaining: 1m 57s\n",
      "267:\tlearn: 0.1238057\ttotal: 43.1s\tremaining: 1m 57s\n",
      "268:\tlearn: 0.1237070\ttotal: 43.3s\tremaining: 1m 57s\n",
      "269:\tlearn: 0.1236197\ttotal: 43.4s\tremaining: 1m 57s\n",
      "270:\tlearn: 0.1235483\ttotal: 43.6s\tremaining: 1m 57s\n",
      "271:\tlearn: 0.1234284\ttotal: 43.7s\tremaining: 1m 57s\n",
      "272:\tlearn: 0.1233225\ttotal: 43.9s\tremaining: 1m 56s\n",
      "273:\tlearn: 0.1232017\ttotal: 44.1s\tremaining: 1m 56s\n",
      "274:\tlearn: 0.1230774\ttotal: 44.2s\tremaining: 1m 56s\n",
      "275:\tlearn: 0.1229766\ttotal: 44.4s\tremaining: 1m 56s\n",
      "276:\tlearn: 0.1228509\ttotal: 44.5s\tremaining: 1m 56s\n",
      "277:\tlearn: 0.1227282\ttotal: 44.7s\tremaining: 1m 56s\n",
      "278:\tlearn: 0.1226260\ttotal: 44.8s\tremaining: 1m 55s\n",
      "279:\tlearn: 0.1225218\ttotal: 45s\tremaining: 1m 55s\n",
      "280:\tlearn: 0.1224129\ttotal: 45.1s\tremaining: 1m 55s\n",
      "281:\tlearn: 0.1223150\ttotal: 45.3s\tremaining: 1m 55s\n",
      "282:\tlearn: 0.1221933\ttotal: 45.5s\tremaining: 1m 55s\n",
      "283:\tlearn: 0.1221179\ttotal: 45.6s\tremaining: 1m 55s\n",
      "284:\tlearn: 0.1220055\ttotal: 45.8s\tremaining: 1m 54s\n",
      "285:\tlearn: 0.1219118\ttotal: 45.9s\tremaining: 1m 54s\n",
      "286:\tlearn: 0.1217896\ttotal: 46.1s\tremaining: 1m 54s\n",
      "287:\tlearn: 0.1216736\ttotal: 46.3s\tremaining: 1m 54s\n",
      "288:\tlearn: 0.1215621\ttotal: 46.4s\tremaining: 1m 54s\n",
      "289:\tlearn: 0.1214457\ttotal: 46.6s\tremaining: 1m 54s\n",
      "290:\tlearn: 0.1213575\ttotal: 46.8s\tremaining: 1m 53s\n",
      "291:\tlearn: 0.1212604\ttotal: 46.9s\tremaining: 1m 53s\n",
      "292:\tlearn: 0.1211427\ttotal: 47.1s\tremaining: 1m 53s\n",
      "293:\tlearn: 0.1209900\ttotal: 47.3s\tremaining: 1m 53s\n",
      "294:\tlearn: 0.1208657\ttotal: 47.4s\tremaining: 1m 53s\n",
      "295:\tlearn: 0.1207646\ttotal: 47.6s\tremaining: 1m 53s\n",
      "296:\tlearn: 0.1206567\ttotal: 47.7s\tremaining: 1m 52s\n",
      "297:\tlearn: 0.1205692\ttotal: 47.9s\tremaining: 1m 52s\n",
      "298:\tlearn: 0.1204733\ttotal: 48s\tremaining: 1m 52s\n",
      "299:\tlearn: 0.1203873\ttotal: 48.2s\tremaining: 1m 52s\n",
      "300:\tlearn: 0.1202963\ttotal: 48.4s\tremaining: 1m 52s\n",
      "301:\tlearn: 0.1201842\ttotal: 48.5s\tremaining: 1m 52s\n",
      "302:\tlearn: 0.1201082\ttotal: 48.7s\tremaining: 1m 52s\n",
      "303:\tlearn: 0.1200115\ttotal: 48.9s\tremaining: 1m 51s\n",
      "304:\tlearn: 0.1198824\ttotal: 49s\tremaining: 1m 51s\n",
      "305:\tlearn: 0.1197566\ttotal: 49.2s\tremaining: 1m 51s\n",
      "306:\tlearn: 0.1196574\ttotal: 49.3s\tremaining: 1m 51s\n",
      "307:\tlearn: 0.1195461\ttotal: 49.5s\tremaining: 1m 51s\n",
      "308:\tlearn: 0.1194648\ttotal: 49.7s\tremaining: 1m 51s\n",
      "309:\tlearn: 0.1193753\ttotal: 49.8s\tremaining: 1m 50s\n",
      "310:\tlearn: 0.1192706\ttotal: 50s\tremaining: 1m 50s\n",
      "311:\tlearn: 0.1191584\ttotal: 50.1s\tremaining: 1m 50s\n",
      "312:\tlearn: 0.1190630\ttotal: 50.3s\tremaining: 1m 50s\n",
      "313:\tlearn: 0.1189414\ttotal: 50.4s\tremaining: 1m 50s\n",
      "314:\tlearn: 0.1188676\ttotal: 50.6s\tremaining: 1m 50s\n",
      "315:\tlearn: 0.1187630\ttotal: 50.7s\tremaining: 1m 49s\n",
      "316:\tlearn: 0.1186916\ttotal: 50.9s\tremaining: 1m 49s\n",
      "317:\tlearn: 0.1185792\ttotal: 51.1s\tremaining: 1m 49s\n",
      "318:\tlearn: 0.1184976\ttotal: 51.2s\tremaining: 1m 49s\n",
      "319:\tlearn: 0.1183902\ttotal: 51.4s\tremaining: 1m 49s\n",
      "320:\tlearn: 0.1183006\ttotal: 51.5s\tremaining: 1m 48s\n",
      "321:\tlearn: 0.1182046\ttotal: 51.7s\tremaining: 1m 48s\n",
      "322:\tlearn: 0.1181234\ttotal: 51.8s\tremaining: 1m 48s\n",
      "323:\tlearn: 0.1180170\ttotal: 52s\tremaining: 1m 48s\n",
      "324:\tlearn: 0.1179363\ttotal: 52.1s\tremaining: 1m 48s\n",
      "325:\tlearn: 0.1178160\ttotal: 52.3s\tremaining: 1m 48s\n",
      "326:\tlearn: 0.1177066\ttotal: 52.4s\tremaining: 1m 47s\n",
      "327:\tlearn: 0.1176487\ttotal: 52.6s\tremaining: 1m 47s\n",
      "328:\tlearn: 0.1175681\ttotal: 52.7s\tremaining: 1m 47s\n",
      "329:\tlearn: 0.1174728\ttotal: 52.9s\tremaining: 1m 47s\n",
      "330:\tlearn: 0.1173864\ttotal: 53s\tremaining: 1m 47s\n",
      "331:\tlearn: 0.1172781\ttotal: 53.1s\tremaining: 1m 46s\n",
      "332:\tlearn: 0.1171702\ttotal: 53.3s\tremaining: 1m 46s\n",
      "333:\tlearn: 0.1170497\ttotal: 53.4s\tremaining: 1m 46s\n",
      "334:\tlearn: 0.1169668\ttotal: 53.6s\tremaining: 1m 46s\n",
      "335:\tlearn: 0.1168840\ttotal: 53.7s\tremaining: 1m 46s\n",
      "336:\tlearn: 0.1167831\ttotal: 53.9s\tremaining: 1m 45s\n",
      "337:\tlearn: 0.1166800\ttotal: 54s\tremaining: 1m 45s\n",
      "338:\tlearn: 0.1166030\ttotal: 54.2s\tremaining: 1m 45s\n",
      "339:\tlearn: 0.1165185\ttotal: 54.3s\tremaining: 1m 45s\n",
      "340:\tlearn: 0.1164172\ttotal: 54.5s\tremaining: 1m 45s\n",
      "341:\tlearn: 0.1163044\ttotal: 54.6s\tremaining: 1m 45s\n",
      "342:\tlearn: 0.1161959\ttotal: 54.8s\tremaining: 1m 44s\n",
      "343:\tlearn: 0.1160917\ttotal: 54.9s\tremaining: 1m 44s\n",
      "344:\tlearn: 0.1159825\ttotal: 55.1s\tremaining: 1m 44s\n",
      "345:\tlearn: 0.1158685\ttotal: 55.3s\tremaining: 1m 44s\n",
      "346:\tlearn: 0.1157848\ttotal: 55.4s\tremaining: 1m 44s\n",
      "347:\tlearn: 0.1157136\ttotal: 55.5s\tremaining: 1m 44s\n",
      "348:\tlearn: 0.1156393\ttotal: 55.7s\tremaining: 1m 43s\n",
      "349:\tlearn: 0.1155710\ttotal: 55.9s\tremaining: 1m 43s\n",
      "350:\tlearn: 0.1154925\ttotal: 56s\tremaining: 1m 43s\n",
      "351:\tlearn: 0.1154060\ttotal: 56.2s\tremaining: 1m 43s\n",
      "352:\tlearn: 0.1153024\ttotal: 56.3s\tremaining: 1m 43s\n",
      "353:\tlearn: 0.1152207\ttotal: 56.5s\tremaining: 1m 43s\n",
      "354:\tlearn: 0.1151350\ttotal: 56.7s\tremaining: 1m 42s\n",
      "355:\tlearn: 0.1150266\ttotal: 56.8s\tremaining: 1m 42s\n",
      "356:\tlearn: 0.1149316\ttotal: 57s\tremaining: 1m 42s\n",
      "357:\tlearn: 0.1148490\ttotal: 57.1s\tremaining: 1m 42s\n",
      "358:\tlearn: 0.1147370\ttotal: 57.3s\tremaining: 1m 42s\n",
      "359:\tlearn: 0.1146609\ttotal: 57.5s\tremaining: 1m 42s\n",
      "360:\tlearn: 0.1145744\ttotal: 57.6s\tremaining: 1m 41s\n",
      "361:\tlearn: 0.1144637\ttotal: 57.8s\tremaining: 1m 41s\n",
      "362:\tlearn: 0.1143394\ttotal: 57.9s\tremaining: 1m 41s\n",
      "363:\tlearn: 0.1142489\ttotal: 58.1s\tremaining: 1m 41s\n",
      "364:\tlearn: 0.1141693\ttotal: 58.2s\tremaining: 1m 41s\n",
      "365:\tlearn: 0.1140960\ttotal: 58.4s\tremaining: 1m 41s\n",
      "366:\tlearn: 0.1140019\ttotal: 58.5s\tremaining: 1m 40s\n",
      "367:\tlearn: 0.1139219\ttotal: 58.7s\tremaining: 1m 40s\n",
      "368:\tlearn: 0.1138374\ttotal: 58.8s\tremaining: 1m 40s\n",
      "369:\tlearn: 0.1137515\ttotal: 59s\tremaining: 1m 40s\n",
      "370:\tlearn: 0.1136686\ttotal: 59.1s\tremaining: 1m 40s\n",
      "371:\tlearn: 0.1136075\ttotal: 59.3s\tremaining: 1m 40s\n",
      "372:\tlearn: 0.1135417\ttotal: 59.4s\tremaining: 1m 39s\n",
      "373:\tlearn: 0.1134446\ttotal: 59.6s\tremaining: 1m 39s\n",
      "374:\tlearn: 0.1133519\ttotal: 59.7s\tremaining: 1m 39s\n",
      "375:\tlearn: 0.1132752\ttotal: 59.9s\tremaining: 1m 39s\n",
      "376:\tlearn: 0.1131766\ttotal: 1m\tremaining: 1m 39s\n",
      "377:\tlearn: 0.1131004\ttotal: 1m\tremaining: 1m 39s\n",
      "378:\tlearn: 0.1130044\ttotal: 1m\tremaining: 1m 38s\n",
      "379:\tlearn: 0.1129105\ttotal: 1m\tremaining: 1m 38s\n",
      "380:\tlearn: 0.1128237\ttotal: 1m\tremaining: 1m 38s\n",
      "381:\tlearn: 0.1127331\ttotal: 1m\tremaining: 1m 38s\n",
      "382:\tlearn: 0.1126406\ttotal: 1m\tremaining: 1m 38s\n",
      "383:\tlearn: 0.1125736\ttotal: 1m 1s\tremaining: 1m 38s\n",
      "384:\tlearn: 0.1124749\ttotal: 1m 1s\tremaining: 1m 37s\n",
      "385:\tlearn: 0.1124443\ttotal: 1m 1s\tremaining: 1m 37s\n",
      "386:\tlearn: 0.1123578\ttotal: 1m 1s\tremaining: 1m 37s\n",
      "387:\tlearn: 0.1122856\ttotal: 1m 1s\tremaining: 1m 37s\n",
      "388:\tlearn: 0.1122063\ttotal: 1m 1s\tremaining: 1m 37s\n",
      "389:\tlearn: 0.1121313\ttotal: 1m 1s\tremaining: 1m 36s\n",
      "390:\tlearn: 0.1120334\ttotal: 1m 2s\tremaining: 1m 36s\n",
      "391:\tlearn: 0.1119468\ttotal: 1m 2s\tremaining: 1m 36s\n",
      "392:\tlearn: 0.1118700\ttotal: 1m 2s\tremaining: 1m 36s\n",
      "393:\tlearn: 0.1117714\ttotal: 1m 2s\tremaining: 1m 36s\n",
      "394:\tlearn: 0.1116709\ttotal: 1m 2s\tremaining: 1m 36s\n",
      "395:\tlearn: 0.1115669\ttotal: 1m 2s\tremaining: 1m 35s\n",
      "396:\tlearn: 0.1114878\ttotal: 1m 3s\tremaining: 1m 35s\n",
      "397:\tlearn: 0.1113791\ttotal: 1m 3s\tremaining: 1m 35s\n",
      "398:\tlearn: 0.1113020\ttotal: 1m 3s\tremaining: 1m 35s\n",
      "399:\tlearn: 0.1112000\ttotal: 1m 3s\tremaining: 1m 35s\n",
      "400:\tlearn: 0.1111233\ttotal: 1m 3s\tremaining: 1m 35s\n",
      "401:\tlearn: 0.1110229\ttotal: 1m 3s\tremaining: 1m 34s\n",
      "402:\tlearn: 0.1109229\ttotal: 1m 3s\tremaining: 1m 34s\n",
      "403:\tlearn: 0.1108651\ttotal: 1m 4s\tremaining: 1m 34s\n",
      "404:\tlearn: 0.1108071\ttotal: 1m 4s\tremaining: 1m 34s\n",
      "405:\tlearn: 0.1107249\ttotal: 1m 4s\tremaining: 1m 34s\n",
      "406:\tlearn: 0.1106373\ttotal: 1m 4s\tremaining: 1m 34s\n",
      "407:\tlearn: 0.1105268\ttotal: 1m 4s\tremaining: 1m 34s\n",
      "408:\tlearn: 0.1104673\ttotal: 1m 4s\tremaining: 1m 33s\n",
      "409:\tlearn: 0.1103789\ttotal: 1m 5s\tremaining: 1m 33s\n",
      "410:\tlearn: 0.1102996\ttotal: 1m 5s\tremaining: 1m 33s\n",
      "411:\tlearn: 0.1102339\ttotal: 1m 5s\tremaining: 1m 33s\n",
      "412:\tlearn: 0.1101552\ttotal: 1m 5s\tremaining: 1m 33s\n",
      "413:\tlearn: 0.1100507\ttotal: 1m 5s\tremaining: 1m 33s\n",
      "414:\tlearn: 0.1099584\ttotal: 1m 5s\tremaining: 1m 32s\n",
      "415:\tlearn: 0.1099113\ttotal: 1m 5s\tremaining: 1m 32s\n",
      "416:\tlearn: 0.1098278\ttotal: 1m 6s\tremaining: 1m 32s\n",
      "417:\tlearn: 0.1097521\ttotal: 1m 6s\tremaining: 1m 32s\n",
      "418:\tlearn: 0.1096746\ttotal: 1m 6s\tremaining: 1m 32s\n",
      "419:\tlearn: 0.1095877\ttotal: 1m 6s\tremaining: 1m 31s\n",
      "420:\tlearn: 0.1095231\ttotal: 1m 6s\tremaining: 1m 31s\n",
      "421:\tlearn: 0.1094404\ttotal: 1m 6s\tremaining: 1m 31s\n",
      "422:\tlearn: 0.1093841\ttotal: 1m 7s\tremaining: 1m 31s\n",
      "423:\tlearn: 0.1092789\ttotal: 1m 7s\tremaining: 1m 31s\n",
      "424:\tlearn: 0.1091869\ttotal: 1m 7s\tremaining: 1m 31s\n",
      "425:\tlearn: 0.1091130\ttotal: 1m 7s\tremaining: 1m 30s\n",
      "426:\tlearn: 0.1090535\ttotal: 1m 7s\tremaining: 1m 30s\n",
      "427:\tlearn: 0.1089767\ttotal: 1m 7s\tremaining: 1m 30s\n",
      "428:\tlearn: 0.1088996\ttotal: 1m 7s\tremaining: 1m 30s\n",
      "429:\tlearn: 0.1088413\ttotal: 1m 8s\tremaining: 1m 30s\n",
      "430:\tlearn: 0.1087370\ttotal: 1m 8s\tremaining: 1m 30s\n",
      "431:\tlearn: 0.1086617\ttotal: 1m 8s\tremaining: 1m 30s\n",
      "432:\tlearn: 0.1085985\ttotal: 1m 8s\tremaining: 1m 29s\n",
      "433:\tlearn: 0.1085072\ttotal: 1m 8s\tremaining: 1m 29s\n",
      "434:\tlearn: 0.1084323\ttotal: 1m 8s\tremaining: 1m 29s\n",
      "435:\tlearn: 0.1083553\ttotal: 1m 9s\tremaining: 1m 29s\n",
      "436:\tlearn: 0.1082645\ttotal: 1m 9s\tremaining: 1m 29s\n",
      "437:\tlearn: 0.1081777\ttotal: 1m 9s\tremaining: 1m 29s\n",
      "438:\tlearn: 0.1081126\ttotal: 1m 9s\tremaining: 1m 28s\n",
      "439:\tlearn: 0.1080472\ttotal: 1m 9s\tremaining: 1m 28s\n",
      "440:\tlearn: 0.1079549\ttotal: 1m 9s\tremaining: 1m 28s\n",
      "441:\tlearn: 0.1078731\ttotal: 1m 10s\tremaining: 1m 28s\n",
      "442:\tlearn: 0.1077665\ttotal: 1m 10s\tremaining: 1m 28s\n",
      "443:\tlearn: 0.1076919\ttotal: 1m 10s\tremaining: 1m 28s\n",
      "444:\tlearn: 0.1076192\ttotal: 1m 10s\tremaining: 1m 27s\n",
      "445:\tlearn: 0.1075316\ttotal: 1m 10s\tremaining: 1m 27s\n",
      "446:\tlearn: 0.1074457\ttotal: 1m 10s\tremaining: 1m 27s\n",
      "447:\tlearn: 0.1073723\ttotal: 1m 10s\tremaining: 1m 27s\n",
      "448:\tlearn: 0.1072747\ttotal: 1m 11s\tremaining: 1m 27s\n",
      "449:\tlearn: 0.1072075\ttotal: 1m 11s\tremaining: 1m 27s\n",
      "450:\tlearn: 0.1071397\ttotal: 1m 11s\tremaining: 1m 26s\n",
      "451:\tlearn: 0.1070756\ttotal: 1m 11s\tremaining: 1m 26s\n",
      "452:\tlearn: 0.1070049\ttotal: 1m 11s\tremaining: 1m 26s\n",
      "453:\tlearn: 0.1069790\ttotal: 1m 11s\tremaining: 1m 26s\n",
      "454:\tlearn: 0.1069114\ttotal: 1m 11s\tremaining: 1m 26s\n",
      "455:\tlearn: 0.1068483\ttotal: 1m 12s\tremaining: 1m 26s\n",
      "456:\tlearn: 0.1067750\ttotal: 1m 12s\tremaining: 1m 25s\n",
      "457:\tlearn: 0.1066969\ttotal: 1m 12s\tremaining: 1m 25s\n",
      "458:\tlearn: 0.1066015\ttotal: 1m 12s\tremaining: 1m 25s\n",
      "459:\tlearn: 0.1065205\ttotal: 1m 12s\tremaining: 1m 25s\n",
      "460:\tlearn: 0.1064463\ttotal: 1m 12s\tremaining: 1m 25s\n",
      "461:\tlearn: 0.1063716\ttotal: 1m 12s\tremaining: 1m 24s\n",
      "462:\tlearn: 0.1062844\ttotal: 1m 13s\tremaining: 1m 24s\n",
      "463:\tlearn: 0.1062071\ttotal: 1m 13s\tremaining: 1m 24s\n",
      "464:\tlearn: 0.1061366\ttotal: 1m 13s\tremaining: 1m 24s\n",
      "465:\tlearn: 0.1060765\ttotal: 1m 13s\tremaining: 1m 24s\n",
      "466:\tlearn: 0.1059915\ttotal: 1m 13s\tremaining: 1m 24s\n",
      "467:\tlearn: 0.1059195\ttotal: 1m 13s\tremaining: 1m 23s\n",
      "468:\tlearn: 0.1058335\ttotal: 1m 14s\tremaining: 1m 23s\n",
      "469:\tlearn: 0.1057650\ttotal: 1m 14s\tremaining: 1m 23s\n",
      "470:\tlearn: 0.1057116\ttotal: 1m 14s\tremaining: 1m 23s\n",
      "471:\tlearn: 0.1056380\ttotal: 1m 14s\tremaining: 1m 23s\n",
      "472:\tlearn: 0.1055577\ttotal: 1m 14s\tremaining: 1m 23s\n",
      "473:\tlearn: 0.1054695\ttotal: 1m 14s\tremaining: 1m 22s\n",
      "474:\tlearn: 0.1054063\ttotal: 1m 14s\tremaining: 1m 22s\n",
      "475:\tlearn: 0.1053501\ttotal: 1m 15s\tremaining: 1m 22s\n",
      "476:\tlearn: 0.1052758\ttotal: 1m 15s\tremaining: 1m 22s\n",
      "477:\tlearn: 0.1052114\ttotal: 1m 15s\tremaining: 1m 22s\n",
      "478:\tlearn: 0.1051562\ttotal: 1m 15s\tremaining: 1m 22s\n",
      "479:\tlearn: 0.1050556\ttotal: 1m 15s\tremaining: 1m 21s\n",
      "480:\tlearn: 0.1049814\ttotal: 1m 15s\tremaining: 1m 21s\n",
      "481:\tlearn: 0.1048954\ttotal: 1m 15s\tremaining: 1m 21s\n",
      "482:\tlearn: 0.1048205\ttotal: 1m 16s\tremaining: 1m 21s\n",
      "483:\tlearn: 0.1047492\ttotal: 1m 16s\tremaining: 1m 21s\n",
      "484:\tlearn: 0.1046767\ttotal: 1m 16s\tremaining: 1m 21s\n",
      "485:\tlearn: 0.1046338\ttotal: 1m 16s\tremaining: 1m 20s\n",
      "486:\tlearn: 0.1045825\ttotal: 1m 16s\tremaining: 1m 20s\n",
      "487:\tlearn: 0.1045180\ttotal: 1m 16s\tremaining: 1m 20s\n",
      "488:\tlearn: 0.1044706\ttotal: 1m 17s\tremaining: 1m 20s\n",
      "489:\tlearn: 0.1044005\ttotal: 1m 17s\tremaining: 1m 20s\n",
      "490:\tlearn: 0.1043177\ttotal: 1m 17s\tremaining: 1m 20s\n",
      "491:\tlearn: 0.1042546\ttotal: 1m 17s\tremaining: 1m 20s\n",
      "492:\tlearn: 0.1042073\ttotal: 1m 17s\tremaining: 1m 19s\n",
      "493:\tlearn: 0.1041255\ttotal: 1m 17s\tremaining: 1m 19s\n",
      "494:\tlearn: 0.1040494\ttotal: 1m 17s\tremaining: 1m 19s\n",
      "495:\tlearn: 0.1039955\ttotal: 1m 18s\tremaining: 1m 19s\n",
      "496:\tlearn: 0.1039205\ttotal: 1m 18s\tremaining: 1m 19s\n",
      "497:\tlearn: 0.1038455\ttotal: 1m 18s\tremaining: 1m 19s\n",
      "498:\tlearn: 0.1037705\ttotal: 1m 18s\tremaining: 1m 18s\n",
      "499:\tlearn: 0.1036898\ttotal: 1m 18s\tremaining: 1m 18s\n",
      "500:\tlearn: 0.1035988\ttotal: 1m 18s\tremaining: 1m 18s\n",
      "501:\tlearn: 0.1035179\ttotal: 1m 19s\tremaining: 1m 18s\n",
      "502:\tlearn: 0.1034472\ttotal: 1m 19s\tremaining: 1m 18s\n",
      "503:\tlearn: 0.1033550\ttotal: 1m 19s\tremaining: 1m 18s\n",
      "504:\tlearn: 0.1032739\ttotal: 1m 19s\tremaining: 1m 18s\n",
      "505:\tlearn: 0.1031957\ttotal: 1m 19s\tremaining: 1m 17s\n",
      "506:\tlearn: 0.1031469\ttotal: 1m 19s\tremaining: 1m 17s\n",
      "507:\tlearn: 0.1030482\ttotal: 1m 20s\tremaining: 1m 17s\n",
      "508:\tlearn: 0.1029646\ttotal: 1m 20s\tremaining: 1m 17s\n",
      "509:\tlearn: 0.1028743\ttotal: 1m 20s\tremaining: 1m 17s\n",
      "510:\tlearn: 0.1027931\ttotal: 1m 20s\tremaining: 1m 17s\n",
      "511:\tlearn: 0.1027257\ttotal: 1m 20s\tremaining: 1m 16s\n",
      "512:\tlearn: 0.1026414\ttotal: 1m 20s\tremaining: 1m 16s\n",
      "513:\tlearn: 0.1025520\ttotal: 1m 21s\tremaining: 1m 16s\n",
      "514:\tlearn: 0.1024830\ttotal: 1m 21s\tremaining: 1m 16s\n",
      "515:\tlearn: 0.1024321\ttotal: 1m 21s\tremaining: 1m 16s\n",
      "516:\tlearn: 0.1023317\ttotal: 1m 21s\tremaining: 1m 16s\n",
      "517:\tlearn: 0.1022438\ttotal: 1m 21s\tremaining: 1m 15s\n",
      "518:\tlearn: 0.1021646\ttotal: 1m 21s\tremaining: 1m 15s\n",
      "519:\tlearn: 0.1020750\ttotal: 1m 21s\tremaining: 1m 15s\n",
      "520:\tlearn: 0.1019789\ttotal: 1m 22s\tremaining: 1m 15s\n",
      "521:\tlearn: 0.1018869\ttotal: 1m 22s\tremaining: 1m 15s\n",
      "522:\tlearn: 0.1018264\ttotal: 1m 22s\tremaining: 1m 15s\n",
      "523:\tlearn: 0.1017754\ttotal: 1m 22s\tremaining: 1m 14s\n",
      "524:\tlearn: 0.1017168\ttotal: 1m 22s\tremaining: 1m 14s\n",
      "525:\tlearn: 0.1016354\ttotal: 1m 22s\tremaining: 1m 14s\n",
      "526:\tlearn: 0.1015411\ttotal: 1m 23s\tremaining: 1m 14s\n",
      "527:\tlearn: 0.1014645\ttotal: 1m 23s\tremaining: 1m 14s\n",
      "528:\tlearn: 0.1013958\ttotal: 1m 23s\tremaining: 1m 14s\n",
      "529:\tlearn: 0.1013498\ttotal: 1m 23s\tremaining: 1m 14s\n",
      "530:\tlearn: 0.1012704\ttotal: 1m 23s\tremaining: 1m 13s\n",
      "531:\tlearn: 0.1011782\ttotal: 1m 23s\tremaining: 1m 13s\n",
      "532:\tlearn: 0.1011209\ttotal: 1m 23s\tremaining: 1m 13s\n",
      "533:\tlearn: 0.1010390\ttotal: 1m 24s\tremaining: 1m 13s\n",
      "534:\tlearn: 0.1009655\ttotal: 1m 24s\tremaining: 1m 13s\n",
      "535:\tlearn: 0.1008960\ttotal: 1m 24s\tremaining: 1m 13s\n",
      "536:\tlearn: 0.1008360\ttotal: 1m 24s\tremaining: 1m 12s\n",
      "537:\tlearn: 0.1007479\ttotal: 1m 24s\tremaining: 1m 12s\n",
      "538:\tlearn: 0.1006781\ttotal: 1m 24s\tremaining: 1m 12s\n",
      "539:\tlearn: 0.1006027\ttotal: 1m 25s\tremaining: 1m 12s\n",
      "540:\tlearn: 0.1005784\ttotal: 1m 25s\tremaining: 1m 12s\n",
      "541:\tlearn: 0.1005201\ttotal: 1m 25s\tremaining: 1m 12s\n",
      "542:\tlearn: 0.1004657\ttotal: 1m 25s\tremaining: 1m 11s\n",
      "543:\tlearn: 0.1003777\ttotal: 1m 25s\tremaining: 1m 11s\n",
      "544:\tlearn: 0.1003291\ttotal: 1m 25s\tremaining: 1m 11s\n",
      "545:\tlearn: 0.1002683\ttotal: 1m 25s\tremaining: 1m 11s\n",
      "546:\tlearn: 0.1001885\ttotal: 1m 26s\tremaining: 1m 11s\n",
      "547:\tlearn: 0.1000950\ttotal: 1m 26s\tremaining: 1m 11s\n",
      "548:\tlearn: 0.1000435\ttotal: 1m 26s\tremaining: 1m 10s\n",
      "549:\tlearn: 0.0999807\ttotal: 1m 26s\tremaining: 1m 10s\n",
      "550:\tlearn: 0.0999228\ttotal: 1m 26s\tremaining: 1m 10s\n",
      "551:\tlearn: 0.0998518\ttotal: 1m 26s\tremaining: 1m 10s\n",
      "552:\tlearn: 0.0997830\ttotal: 1m 27s\tremaining: 1m 10s\n",
      "553:\tlearn: 0.0997050\ttotal: 1m 27s\tremaining: 1m 10s\n",
      "554:\tlearn: 0.0996521\ttotal: 1m 27s\tremaining: 1m 10s\n",
      "555:\tlearn: 0.0995659\ttotal: 1m 27s\tremaining: 1m 9s\n",
      "556:\tlearn: 0.0995059\ttotal: 1m 27s\tremaining: 1m 9s\n",
      "557:\tlearn: 0.0994569\ttotal: 1m 27s\tremaining: 1m 9s\n",
      "558:\tlearn: 0.0993809\ttotal: 1m 27s\tremaining: 1m 9s\n",
      "559:\tlearn: 0.0993052\ttotal: 1m 28s\tremaining: 1m 9s\n",
      "560:\tlearn: 0.0992467\ttotal: 1m 28s\tremaining: 1m 9s\n",
      "561:\tlearn: 0.0991768\ttotal: 1m 28s\tremaining: 1m 8s\n",
      "562:\tlearn: 0.0991126\ttotal: 1m 28s\tremaining: 1m 8s\n",
      "563:\tlearn: 0.0990481\ttotal: 1m 28s\tremaining: 1m 8s\n",
      "564:\tlearn: 0.0989671\ttotal: 1m 28s\tremaining: 1m 8s\n",
      "565:\tlearn: 0.0989084\ttotal: 1m 29s\tremaining: 1m 8s\n",
      "566:\tlearn: 0.0988471\ttotal: 1m 29s\tremaining: 1m 8s\n",
      "567:\tlearn: 0.0987700\ttotal: 1m 29s\tremaining: 1m 7s\n",
      "568:\tlearn: 0.0986865\ttotal: 1m 29s\tremaining: 1m 7s\n",
      "569:\tlearn: 0.0986103\ttotal: 1m 29s\tremaining: 1m 7s\n",
      "570:\tlearn: 0.0985506\ttotal: 1m 29s\tremaining: 1m 7s\n",
      "571:\tlearn: 0.0984677\ttotal: 1m 29s\tremaining: 1m 7s\n",
      "572:\tlearn: 0.0984128\ttotal: 1m 30s\tremaining: 1m 7s\n",
      "573:\tlearn: 0.0983388\ttotal: 1m 30s\tremaining: 1m 6s\n",
      "574:\tlearn: 0.0982464\ttotal: 1m 30s\tremaining: 1m 6s\n",
      "575:\tlearn: 0.0981969\ttotal: 1m 30s\tremaining: 1m 6s\n",
      "576:\tlearn: 0.0981417\ttotal: 1m 30s\tremaining: 1m 6s\n",
      "577:\tlearn: 0.0980661\ttotal: 1m 30s\tremaining: 1m 6s\n",
      "578:\tlearn: 0.0980237\ttotal: 1m 31s\tremaining: 1m 6s\n",
      "579:\tlearn: 0.0979605\ttotal: 1m 31s\tremaining: 1m 6s\n",
      "580:\tlearn: 0.0978927\ttotal: 1m 31s\tremaining: 1m 5s\n",
      "581:\tlearn: 0.0978318\ttotal: 1m 31s\tremaining: 1m 5s\n",
      "582:\tlearn: 0.0977901\ttotal: 1m 31s\tremaining: 1m 5s\n",
      "583:\tlearn: 0.0977018\ttotal: 1m 31s\tremaining: 1m 5s\n",
      "584:\tlearn: 0.0976648\ttotal: 1m 31s\tremaining: 1m 5s\n",
      "585:\tlearn: 0.0975959\ttotal: 1m 32s\tremaining: 1m 5s\n",
      "586:\tlearn: 0.0975346\ttotal: 1m 32s\tremaining: 1m 4s\n",
      "587:\tlearn: 0.0974845\ttotal: 1m 32s\tremaining: 1m 4s\n",
      "588:\tlearn: 0.0974195\ttotal: 1m 32s\tremaining: 1m 4s\n",
      "589:\tlearn: 0.0974005\ttotal: 1m 32s\tremaining: 1m 4s\n",
      "590:\tlearn: 0.0973526\ttotal: 1m 32s\tremaining: 1m 4s\n",
      "591:\tlearn: 0.0972864\ttotal: 1m 32s\tremaining: 1m 4s\n",
      "592:\tlearn: 0.0972422\ttotal: 1m 33s\tremaining: 1m 3s\n",
      "593:\tlearn: 0.0971682\ttotal: 1m 33s\tremaining: 1m 3s\n",
      "594:\tlearn: 0.0970959\ttotal: 1m 33s\tremaining: 1m 3s\n",
      "595:\tlearn: 0.0970132\ttotal: 1m 33s\tremaining: 1m 3s\n",
      "596:\tlearn: 0.0969683\ttotal: 1m 33s\tremaining: 1m 3s\n",
      "597:\tlearn: 0.0969190\ttotal: 1m 33s\tremaining: 1m 3s\n",
      "598:\tlearn: 0.0968902\ttotal: 1m 33s\tremaining: 1m 2s\n",
      "599:\tlearn: 0.0968135\ttotal: 1m 34s\tremaining: 1m 2s\n",
      "600:\tlearn: 0.0967598\ttotal: 1m 34s\tremaining: 1m 2s\n",
      "601:\tlearn: 0.0966912\ttotal: 1m 34s\tremaining: 1m 2s\n",
      "602:\tlearn: 0.0966334\ttotal: 1m 34s\tremaining: 1m 2s\n",
      "603:\tlearn: 0.0965720\ttotal: 1m 34s\tremaining: 1m 2s\n",
      "604:\tlearn: 0.0965036\ttotal: 1m 34s\tremaining: 1m 1s\n",
      "605:\tlearn: 0.0964293\ttotal: 1m 34s\tremaining: 1m 1s\n",
      "606:\tlearn: 0.0963680\ttotal: 1m 35s\tremaining: 1m 1s\n",
      "607:\tlearn: 0.0962873\ttotal: 1m 35s\tremaining: 1m 1s\n",
      "608:\tlearn: 0.0962327\ttotal: 1m 35s\tremaining: 1m 1s\n",
      "609:\tlearn: 0.0961719\ttotal: 1m 35s\tremaining: 1m 1s\n",
      "610:\tlearn: 0.0961048\ttotal: 1m 35s\tremaining: 1m\n",
      "611:\tlearn: 0.0960209\ttotal: 1m 35s\tremaining: 1m\n",
      "612:\tlearn: 0.0959634\ttotal: 1m 35s\tremaining: 1m\n",
      "613:\tlearn: 0.0959149\ttotal: 1m 36s\tremaining: 1m\n",
      "614:\tlearn: 0.0958640\ttotal: 1m 36s\tremaining: 1m\n",
      "615:\tlearn: 0.0958166\ttotal: 1m 36s\tremaining: 1m\n",
      "616:\tlearn: 0.0957574\ttotal: 1m 36s\tremaining: 59.9s\n",
      "617:\tlearn: 0.0956896\ttotal: 1m 36s\tremaining: 59.8s\n",
      "618:\tlearn: 0.0956320\ttotal: 1m 36s\tremaining: 59.6s\n",
      "619:\tlearn: 0.0955595\ttotal: 1m 36s\tremaining: 59.4s\n",
      "620:\tlearn: 0.0954917\ttotal: 1m 37s\tremaining: 59.3s\n",
      "621:\tlearn: 0.0954070\ttotal: 1m 37s\tremaining: 59.1s\n",
      "622:\tlearn: 0.0953526\ttotal: 1m 37s\tremaining: 58.9s\n",
      "623:\tlearn: 0.0952689\ttotal: 1m 37s\tremaining: 58.8s\n",
      "624:\tlearn: 0.0952091\ttotal: 1m 37s\tremaining: 58.6s\n",
      "625:\tlearn: 0.0951779\ttotal: 1m 37s\tremaining: 58.4s\n",
      "626:\tlearn: 0.0951091\ttotal: 1m 37s\tremaining: 58.3s\n",
      "627:\tlearn: 0.0950530\ttotal: 1m 38s\tremaining: 58.1s\n",
      "628:\tlearn: 0.0949866\ttotal: 1m 38s\tremaining: 58s\n",
      "629:\tlearn: 0.0949419\ttotal: 1m 38s\tremaining: 57.8s\n",
      "630:\tlearn: 0.0948909\ttotal: 1m 38s\tremaining: 57.6s\n",
      "631:\tlearn: 0.0948441\ttotal: 1m 38s\tremaining: 57.5s\n",
      "632:\tlearn: 0.0948017\ttotal: 1m 38s\tremaining: 57.3s\n",
      "633:\tlearn: 0.0947544\ttotal: 1m 38s\tremaining: 57.1s\n",
      "634:\tlearn: 0.0946822\ttotal: 1m 39s\tremaining: 57s\n",
      "635:\tlearn: 0.0946072\ttotal: 1m 39s\tremaining: 56.8s\n",
      "636:\tlearn: 0.0945593\ttotal: 1m 39s\tremaining: 56.6s\n",
      "637:\tlearn: 0.0945148\ttotal: 1m 39s\tremaining: 56.5s\n",
      "638:\tlearn: 0.0944265\ttotal: 1m 39s\tremaining: 56.3s\n",
      "639:\tlearn: 0.0943789\ttotal: 1m 39s\tremaining: 56.2s\n",
      "640:\tlearn: 0.0943391\ttotal: 1m 39s\tremaining: 56s\n",
      "641:\tlearn: 0.0942708\ttotal: 1m 40s\tremaining: 55.8s\n",
      "642:\tlearn: 0.0942003\ttotal: 1m 40s\tremaining: 55.7s\n",
      "643:\tlearn: 0.0941251\ttotal: 1m 40s\tremaining: 55.5s\n",
      "644:\tlearn: 0.0940771\ttotal: 1m 40s\tremaining: 55.3s\n",
      "645:\tlearn: 0.0940094\ttotal: 1m 40s\tremaining: 55.2s\n",
      "646:\tlearn: 0.0939262\ttotal: 1m 40s\tremaining: 55s\n",
      "647:\tlearn: 0.0938845\ttotal: 1m 40s\tremaining: 54.9s\n",
      "648:\tlearn: 0.0938405\ttotal: 1m 41s\tremaining: 54.7s\n",
      "649:\tlearn: 0.0938087\ttotal: 1m 41s\tremaining: 54.5s\n",
      "650:\tlearn: 0.0937511\ttotal: 1m 41s\tremaining: 54.4s\n",
      "651:\tlearn: 0.0937029\ttotal: 1m 41s\tremaining: 54.2s\n",
      "652:\tlearn: 0.0936369\ttotal: 1m 41s\tremaining: 54s\n",
      "653:\tlearn: 0.0935669\ttotal: 1m 41s\tremaining: 53.9s\n",
      "654:\tlearn: 0.0935194\ttotal: 1m 41s\tremaining: 53.7s\n",
      "655:\tlearn: 0.0934682\ttotal: 1m 42s\tremaining: 53.6s\n",
      "656:\tlearn: 0.0934252\ttotal: 1m 42s\tremaining: 53.4s\n",
      "657:\tlearn: 0.0933915\ttotal: 1m 42s\tremaining: 53.2s\n",
      "658:\tlearn: 0.0933400\ttotal: 1m 42s\tremaining: 53.1s\n",
      "659:\tlearn: 0.0932732\ttotal: 1m 42s\tremaining: 52.9s\n",
      "660:\tlearn: 0.0932030\ttotal: 1m 42s\tremaining: 52.7s\n",
      "661:\tlearn: 0.0931392\ttotal: 1m 42s\tremaining: 52.6s\n",
      "662:\tlearn: 0.0930842\ttotal: 1m 43s\tremaining: 52.4s\n",
      "663:\tlearn: 0.0930295\ttotal: 1m 43s\tremaining: 52.3s\n",
      "664:\tlearn: 0.0929485\ttotal: 1m 43s\tremaining: 52.1s\n",
      "665:\tlearn: 0.0928686\ttotal: 1m 43s\tremaining: 51.9s\n",
      "666:\tlearn: 0.0927821\ttotal: 1m 43s\tremaining: 51.8s\n",
      "667:\tlearn: 0.0927289\ttotal: 1m 43s\tremaining: 51.6s\n",
      "668:\tlearn: 0.0926690\ttotal: 1m 44s\tremaining: 51.5s\n",
      "669:\tlearn: 0.0926079\ttotal: 1m 44s\tremaining: 51.3s\n",
      "670:\tlearn: 0.0925410\ttotal: 1m 44s\tremaining: 51.1s\n",
      "671:\tlearn: 0.0925063\ttotal: 1m 44s\tremaining: 51s\n",
      "672:\tlearn: 0.0924341\ttotal: 1m 44s\tremaining: 50.8s\n",
      "673:\tlearn: 0.0923665\ttotal: 1m 44s\tremaining: 50.7s\n",
      "674:\tlearn: 0.0922857\ttotal: 1m 44s\tremaining: 50.5s\n",
      "675:\tlearn: 0.0922412\ttotal: 1m 45s\tremaining: 50.3s\n",
      "676:\tlearn: 0.0921897\ttotal: 1m 45s\tremaining: 50.2s\n",
      "677:\tlearn: 0.0921376\ttotal: 1m 45s\tremaining: 50s\n",
      "678:\tlearn: 0.0920661\ttotal: 1m 45s\tremaining: 49.9s\n",
      "679:\tlearn: 0.0920137\ttotal: 1m 45s\tremaining: 49.7s\n",
      "680:\tlearn: 0.0919580\ttotal: 1m 45s\tremaining: 49.6s\n",
      "681:\tlearn: 0.0919285\ttotal: 1m 45s\tremaining: 49.4s\n",
      "682:\tlearn: 0.0918802\ttotal: 1m 46s\tremaining: 49.2s\n",
      "683:\tlearn: 0.0918348\ttotal: 1m 46s\tremaining: 49.1s\n",
      "684:\tlearn: 0.0917637\ttotal: 1m 46s\tremaining: 48.9s\n",
      "685:\tlearn: 0.0917194\ttotal: 1m 46s\tremaining: 48.8s\n",
      "686:\tlearn: 0.0916526\ttotal: 1m 46s\tremaining: 48.6s\n",
      "687:\tlearn: 0.0915889\ttotal: 1m 46s\tremaining: 48.5s\n",
      "688:\tlearn: 0.0915302\ttotal: 1m 47s\tremaining: 48.3s\n",
      "689:\tlearn: 0.0914742\ttotal: 1m 47s\tremaining: 48.1s\n",
      "690:\tlearn: 0.0914052\ttotal: 1m 47s\tremaining: 48s\n",
      "691:\tlearn: 0.0913566\ttotal: 1m 47s\tremaining: 47.8s\n",
      "692:\tlearn: 0.0913082\ttotal: 1m 47s\tremaining: 47.7s\n",
      "693:\tlearn: 0.0912686\ttotal: 1m 47s\tremaining: 47.5s\n",
      "694:\tlearn: 0.0912080\ttotal: 1m 47s\tremaining: 47.4s\n",
      "695:\tlearn: 0.0911355\ttotal: 1m 48s\tremaining: 47.2s\n",
      "696:\tlearn: 0.0910766\ttotal: 1m 48s\tremaining: 47s\n",
      "697:\tlearn: 0.0910151\ttotal: 1m 48s\tremaining: 46.9s\n",
      "698:\tlearn: 0.0909464\ttotal: 1m 48s\tremaining: 46.7s\n",
      "699:\tlearn: 0.0908925\ttotal: 1m 48s\tremaining: 46.6s\n",
      "700:\tlearn: 0.0908527\ttotal: 1m 48s\tremaining: 46.4s\n",
      "701:\tlearn: 0.0907830\ttotal: 1m 48s\tremaining: 46.3s\n",
      "702:\tlearn: 0.0907232\ttotal: 1m 49s\tremaining: 46.1s\n",
      "703:\tlearn: 0.0906483\ttotal: 1m 49s\tremaining: 46s\n",
      "704:\tlearn: 0.0906001\ttotal: 1m 49s\tremaining: 45.8s\n",
      "705:\tlearn: 0.0905220\ttotal: 1m 49s\tremaining: 45.6s\n",
      "706:\tlearn: 0.0904678\ttotal: 1m 49s\tremaining: 45.5s\n",
      "707:\tlearn: 0.0904263\ttotal: 1m 49s\tremaining: 45.3s\n",
      "708:\tlearn: 0.0903843\ttotal: 1m 50s\tremaining: 45.1s\n",
      "709:\tlearn: 0.0903132\ttotal: 1m 50s\tremaining: 45s\n",
      "710:\tlearn: 0.0902710\ttotal: 1m 50s\tremaining: 44.8s\n",
      "711:\tlearn: 0.0901957\ttotal: 1m 50s\tremaining: 44.7s\n",
      "712:\tlearn: 0.0901519\ttotal: 1m 50s\tremaining: 44.5s\n",
      "713:\tlearn: 0.0900894\ttotal: 1m 50s\tremaining: 44.4s\n",
      "714:\tlearn: 0.0900382\ttotal: 1m 50s\tremaining: 44.2s\n",
      "715:\tlearn: 0.0899641\ttotal: 1m 51s\tremaining: 44s\n",
      "716:\tlearn: 0.0899279\ttotal: 1m 51s\tremaining: 43.9s\n",
      "717:\tlearn: 0.0898602\ttotal: 1m 51s\tremaining: 43.7s\n",
      "718:\tlearn: 0.0897842\ttotal: 1m 51s\tremaining: 43.6s\n",
      "719:\tlearn: 0.0897289\ttotal: 1m 51s\tremaining: 43.4s\n",
      "720:\tlearn: 0.0896756\ttotal: 1m 51s\tremaining: 43.2s\n",
      "721:\tlearn: 0.0896198\ttotal: 1m 51s\tremaining: 43.1s\n",
      "722:\tlearn: 0.0895847\ttotal: 1m 52s\tremaining: 42.9s\n",
      "723:\tlearn: 0.0895090\ttotal: 1m 52s\tremaining: 42.8s\n",
      "724:\tlearn: 0.0894638\ttotal: 1m 52s\tremaining: 42.6s\n",
      "725:\tlearn: 0.0894087\ttotal: 1m 52s\tremaining: 42.4s\n",
      "726:\tlearn: 0.0893528\ttotal: 1m 52s\tremaining: 42.3s\n",
      "727:\tlearn: 0.0893148\ttotal: 1m 52s\tremaining: 42.1s\n",
      "728:\tlearn: 0.0892366\ttotal: 1m 52s\tremaining: 41.9s\n",
      "729:\tlearn: 0.0892074\ttotal: 1m 52s\tremaining: 41.8s\n",
      "730:\tlearn: 0.0891330\ttotal: 1m 53s\tremaining: 41.6s\n",
      "731:\tlearn: 0.0890955\ttotal: 1m 53s\tremaining: 41.5s\n",
      "732:\tlearn: 0.0890460\ttotal: 1m 53s\tremaining: 41.3s\n",
      "733:\tlearn: 0.0889837\ttotal: 1m 53s\tremaining: 41.1s\n",
      "734:\tlearn: 0.0889287\ttotal: 1m 53s\tremaining: 41s\n",
      "735:\tlearn: 0.0888579\ttotal: 1m 53s\tremaining: 40.8s\n",
      "736:\tlearn: 0.0887969\ttotal: 1m 53s\tremaining: 40.7s\n",
      "737:\tlearn: 0.0887391\ttotal: 1m 54s\tremaining: 40.5s\n",
      "738:\tlearn: 0.0886902\ttotal: 1m 54s\tremaining: 40.3s\n",
      "739:\tlearn: 0.0886332\ttotal: 1m 54s\tremaining: 40.2s\n",
      "740:\tlearn: 0.0885810\ttotal: 1m 54s\tremaining: 40s\n",
      "741:\tlearn: 0.0885176\ttotal: 1m 54s\tremaining: 39.9s\n",
      "742:\tlearn: 0.0884652\ttotal: 1m 54s\tremaining: 39.7s\n",
      "743:\tlearn: 0.0884074\ttotal: 1m 54s\tremaining: 39.6s\n",
      "744:\tlearn: 0.0883607\ttotal: 1m 55s\tremaining: 39.4s\n",
      "745:\tlearn: 0.0882990\ttotal: 1m 55s\tremaining: 39.2s\n",
      "746:\tlearn: 0.0882573\ttotal: 1m 55s\tremaining: 39.1s\n",
      "747:\tlearn: 0.0882062\ttotal: 1m 55s\tremaining: 38.9s\n",
      "748:\tlearn: 0.0881374\ttotal: 1m 55s\tremaining: 38.8s\n",
      "749:\tlearn: 0.0880677\ttotal: 1m 55s\tremaining: 38.6s\n",
      "750:\tlearn: 0.0880028\ttotal: 1m 55s\tremaining: 38.5s\n",
      "751:\tlearn: 0.0879529\ttotal: 1m 56s\tremaining: 38.3s\n",
      "752:\tlearn: 0.0878905\ttotal: 1m 56s\tremaining: 38.1s\n",
      "753:\tlearn: 0.0878473\ttotal: 1m 56s\tremaining: 38s\n",
      "754:\tlearn: 0.0877725\ttotal: 1m 56s\tremaining: 37.8s\n",
      "755:\tlearn: 0.0877385\ttotal: 1m 56s\tremaining: 37.7s\n",
      "756:\tlearn: 0.0876760\ttotal: 1m 56s\tremaining: 37.5s\n",
      "757:\tlearn: 0.0876240\ttotal: 1m 56s\tremaining: 37.3s\n",
      "758:\tlearn: 0.0875609\ttotal: 1m 57s\tremaining: 37.2s\n",
      "759:\tlearn: 0.0875184\ttotal: 1m 57s\tremaining: 37s\n",
      "760:\tlearn: 0.0874632\ttotal: 1m 57s\tremaining: 36.9s\n",
      "761:\tlearn: 0.0874011\ttotal: 1m 57s\tremaining: 36.7s\n",
      "762:\tlearn: 0.0873584\ttotal: 1m 57s\tremaining: 36.6s\n",
      "763:\tlearn: 0.0872745\ttotal: 1m 57s\tremaining: 36.4s\n",
      "764:\tlearn: 0.0872323\ttotal: 1m 57s\tremaining: 36.2s\n",
      "765:\tlearn: 0.0871675\ttotal: 1m 58s\tremaining: 36.1s\n",
      "766:\tlearn: 0.0871182\ttotal: 1m 58s\tremaining: 35.9s\n",
      "767:\tlearn: 0.0870723\ttotal: 1m 58s\tremaining: 35.8s\n",
      "768:\tlearn: 0.0870291\ttotal: 1m 58s\tremaining: 35.6s\n",
      "769:\tlearn: 0.0869667\ttotal: 1m 58s\tremaining: 35.5s\n",
      "770:\tlearn: 0.0869293\ttotal: 1m 58s\tremaining: 35.3s\n",
      "771:\tlearn: 0.0868463\ttotal: 1m 59s\tremaining: 35.2s\n",
      "772:\tlearn: 0.0867977\ttotal: 1m 59s\tremaining: 35s\n",
      "773:\tlearn: 0.0867288\ttotal: 1m 59s\tremaining: 34.8s\n",
      "774:\tlearn: 0.0866728\ttotal: 1m 59s\tremaining: 34.7s\n",
      "775:\tlearn: 0.0866274\ttotal: 1m 59s\tremaining: 34.5s\n",
      "776:\tlearn: 0.0865695\ttotal: 1m 59s\tremaining: 34.4s\n",
      "777:\tlearn: 0.0865367\ttotal: 1m 59s\tremaining: 34.2s\n",
      "778:\tlearn: 0.0864693\ttotal: 2m\tremaining: 34.1s\n",
      "779:\tlearn: 0.0863999\ttotal: 2m\tremaining: 33.9s\n",
      "780:\tlearn: 0.0863446\ttotal: 2m\tremaining: 33.7s\n",
      "781:\tlearn: 0.0862730\ttotal: 2m\tremaining: 33.6s\n",
      "782:\tlearn: 0.0862269\ttotal: 2m\tremaining: 33.4s\n",
      "783:\tlearn: 0.0861774\ttotal: 2m\tremaining: 33.3s\n",
      "784:\tlearn: 0.0861111\ttotal: 2m\tremaining: 33.1s\n",
      "785:\tlearn: 0.0860721\ttotal: 2m 1s\tremaining: 33s\n",
      "786:\tlearn: 0.0860205\ttotal: 2m 1s\tremaining: 32.8s\n",
      "787:\tlearn: 0.0859643\ttotal: 2m 1s\tremaining: 32.6s\n",
      "788:\tlearn: 0.0858858\ttotal: 2m 1s\tremaining: 32.5s\n",
      "789:\tlearn: 0.0858295\ttotal: 2m 1s\tremaining: 32.3s\n",
      "790:\tlearn: 0.0857821\ttotal: 2m 1s\tremaining: 32.2s\n",
      "791:\tlearn: 0.0857255\ttotal: 2m 1s\tremaining: 32s\n",
      "792:\tlearn: 0.0857069\ttotal: 2m 2s\tremaining: 31.9s\n",
      "793:\tlearn: 0.0856505\ttotal: 2m 2s\tremaining: 31.7s\n",
      "794:\tlearn: 0.0855914\ttotal: 2m 2s\tremaining: 31.6s\n",
      "795:\tlearn: 0.0855623\ttotal: 2m 2s\tremaining: 31.4s\n",
      "796:\tlearn: 0.0855080\ttotal: 2m 2s\tremaining: 31.2s\n",
      "797:\tlearn: 0.0854594\ttotal: 2m 2s\tremaining: 31.1s\n",
      "798:\tlearn: 0.0854295\ttotal: 2m 2s\tremaining: 30.9s\n",
      "799:\tlearn: 0.0853487\ttotal: 2m 3s\tremaining: 30.8s\n",
      "800:\tlearn: 0.0852948\ttotal: 2m 3s\tremaining: 30.6s\n",
      "801:\tlearn: 0.0852596\ttotal: 2m 3s\tremaining: 30.5s\n",
      "802:\tlearn: 0.0852342\ttotal: 2m 3s\tremaining: 30.3s\n",
      "803:\tlearn: 0.0851853\ttotal: 2m 3s\tremaining: 30.1s\n",
      "804:\tlearn: 0.0851390\ttotal: 2m 3s\tremaining: 30s\n",
      "805:\tlearn: 0.0850819\ttotal: 2m 3s\tremaining: 29.8s\n",
      "806:\tlearn: 0.0850265\ttotal: 2m 4s\tremaining: 29.7s\n",
      "807:\tlearn: 0.0849830\ttotal: 2m 4s\tremaining: 29.5s\n",
      "808:\tlearn: 0.0849132\ttotal: 2m 4s\tremaining: 29.4s\n",
      "809:\tlearn: 0.0848543\ttotal: 2m 4s\tremaining: 29.2s\n",
      "810:\tlearn: 0.0848026\ttotal: 2m 4s\tremaining: 29.1s\n",
      "811:\tlearn: 0.0847642\ttotal: 2m 4s\tremaining: 28.9s\n",
      "812:\tlearn: 0.0847008\ttotal: 2m 4s\tremaining: 28.7s\n",
      "813:\tlearn: 0.0846438\ttotal: 2m 5s\tremaining: 28.6s\n",
      "814:\tlearn: 0.0845911\ttotal: 2m 5s\tremaining: 28.4s\n",
      "815:\tlearn: 0.0845225\ttotal: 2m 5s\tremaining: 28.3s\n",
      "816:\tlearn: 0.0844912\ttotal: 2m 5s\tremaining: 28.1s\n",
      "817:\tlearn: 0.0844539\ttotal: 2m 5s\tremaining: 28s\n",
      "818:\tlearn: 0.0844071\ttotal: 2m 5s\tremaining: 27.8s\n",
      "819:\tlearn: 0.0843368\ttotal: 2m 5s\tremaining: 27.7s\n",
      "820:\tlearn: 0.0842835\ttotal: 2m 6s\tremaining: 27.5s\n",
      "821:\tlearn: 0.0842254\ttotal: 2m 6s\tremaining: 27.3s\n",
      "822:\tlearn: 0.0841697\ttotal: 2m 6s\tremaining: 27.2s\n",
      "823:\tlearn: 0.0841085\ttotal: 2m 6s\tremaining: 27s\n",
      "824:\tlearn: 0.0840571\ttotal: 2m 6s\tremaining: 26.9s\n",
      "825:\tlearn: 0.0840135\ttotal: 2m 6s\tremaining: 26.7s\n",
      "826:\tlearn: 0.0839503\ttotal: 2m 7s\tremaining: 26.6s\n",
      "827:\tlearn: 0.0839146\ttotal: 2m 7s\tremaining: 26.4s\n",
      "828:\tlearn: 0.0838807\ttotal: 2m 7s\tremaining: 26.3s\n",
      "829:\tlearn: 0.0838377\ttotal: 2m 7s\tremaining: 26.1s\n",
      "830:\tlearn: 0.0837934\ttotal: 2m 7s\tremaining: 25.9s\n",
      "831:\tlearn: 0.0837367\ttotal: 2m 7s\tremaining: 25.8s\n",
      "832:\tlearn: 0.0836739\ttotal: 2m 7s\tremaining: 25.6s\n",
      "833:\tlearn: 0.0836065\ttotal: 2m 7s\tremaining: 25.5s\n",
      "834:\tlearn: 0.0835730\ttotal: 2m 8s\tremaining: 25.3s\n",
      "835:\tlearn: 0.0835158\ttotal: 2m 8s\tremaining: 25.2s\n",
      "836:\tlearn: 0.0834613\ttotal: 2m 8s\tremaining: 25s\n",
      "837:\tlearn: 0.0834200\ttotal: 2m 8s\tremaining: 24.9s\n",
      "838:\tlearn: 0.0833631\ttotal: 2m 8s\tremaining: 24.7s\n",
      "839:\tlearn: 0.0833105\ttotal: 2m 8s\tremaining: 24.5s\n",
      "840:\tlearn: 0.0832580\ttotal: 2m 8s\tremaining: 24.4s\n",
      "841:\tlearn: 0.0832194\ttotal: 2m 9s\tremaining: 24.2s\n",
      "842:\tlearn: 0.0831469\ttotal: 2m 9s\tremaining: 24.1s\n",
      "843:\tlearn: 0.0831216\ttotal: 2m 9s\tremaining: 23.9s\n",
      "844:\tlearn: 0.0830702\ttotal: 2m 9s\tremaining: 23.8s\n",
      "845:\tlearn: 0.0830070\ttotal: 2m 9s\tremaining: 23.6s\n",
      "846:\tlearn: 0.0829456\ttotal: 2m 9s\tremaining: 23.5s\n",
      "847:\tlearn: 0.0828861\ttotal: 2m 10s\tremaining: 23.3s\n",
      "848:\tlearn: 0.0828365\ttotal: 2m 10s\tremaining: 23.1s\n",
      "849:\tlearn: 0.0827779\ttotal: 2m 10s\tremaining: 23s\n",
      "850:\tlearn: 0.0827299\ttotal: 2m 10s\tremaining: 22.8s\n",
      "851:\tlearn: 0.0826856\ttotal: 2m 10s\tremaining: 22.7s\n",
      "852:\tlearn: 0.0826252\ttotal: 2m 10s\tremaining: 22.5s\n",
      "853:\tlearn: 0.0825597\ttotal: 2m 10s\tremaining: 22.4s\n",
      "854:\tlearn: 0.0825013\ttotal: 2m 11s\tremaining: 22.2s\n",
      "855:\tlearn: 0.0824530\ttotal: 2m 11s\tremaining: 22.1s\n",
      "856:\tlearn: 0.0823977\ttotal: 2m 11s\tremaining: 21.9s\n",
      "857:\tlearn: 0.0823440\ttotal: 2m 11s\tremaining: 21.8s\n",
      "858:\tlearn: 0.0822861\ttotal: 2m 11s\tremaining: 21.6s\n",
      "859:\tlearn: 0.0822137\ttotal: 2m 11s\tremaining: 21.4s\n",
      "860:\tlearn: 0.0821733\ttotal: 2m 11s\tremaining: 21.3s\n",
      "861:\tlearn: 0.0821244\ttotal: 2m 12s\tremaining: 21.1s\n",
      "862:\tlearn: 0.0820531\ttotal: 2m 12s\tremaining: 21s\n",
      "863:\tlearn: 0.0820199\ttotal: 2m 12s\tremaining: 20.8s\n",
      "864:\tlearn: 0.0819558\ttotal: 2m 12s\tremaining: 20.7s\n",
      "865:\tlearn: 0.0819169\ttotal: 2m 12s\tremaining: 20.5s\n",
      "866:\tlearn: 0.0818721\ttotal: 2m 12s\tremaining: 20.4s\n",
      "867:\tlearn: 0.0818085\ttotal: 2m 12s\tremaining: 20.2s\n",
      "868:\tlearn: 0.0817468\ttotal: 2m 13s\tremaining: 20.1s\n",
      "869:\tlearn: 0.0816805\ttotal: 2m 13s\tremaining: 19.9s\n",
      "870:\tlearn: 0.0816151\ttotal: 2m 13s\tremaining: 19.7s\n",
      "871:\tlearn: 0.0815534\ttotal: 2m 13s\tremaining: 19.6s\n",
      "872:\tlearn: 0.0814975\ttotal: 2m 13s\tremaining: 19.4s\n",
      "873:\tlearn: 0.0814372\ttotal: 2m 13s\tremaining: 19.3s\n",
      "874:\tlearn: 0.0813850\ttotal: 2m 13s\tremaining: 19.1s\n",
      "875:\tlearn: 0.0813294\ttotal: 2m 14s\tremaining: 19s\n",
      "876:\tlearn: 0.0812825\ttotal: 2m 14s\tremaining: 18.8s\n",
      "877:\tlearn: 0.0812485\ttotal: 2m 14s\tremaining: 18.7s\n",
      "878:\tlearn: 0.0811890\ttotal: 2m 14s\tremaining: 18.5s\n",
      "879:\tlearn: 0.0811332\ttotal: 2m 14s\tremaining: 18.3s\n",
      "880:\tlearn: 0.0810842\ttotal: 2m 14s\tremaining: 18.2s\n",
      "881:\tlearn: 0.0810283\ttotal: 2m 14s\tremaining: 18s\n",
      "882:\tlearn: 0.0809922\ttotal: 2m 14s\tremaining: 17.9s\n",
      "883:\tlearn: 0.0809684\ttotal: 2m 15s\tremaining: 17.7s\n",
      "884:\tlearn: 0.0809065\ttotal: 2m 15s\tremaining: 17.6s\n",
      "885:\tlearn: 0.0808673\ttotal: 2m 15s\tremaining: 17.4s\n",
      "886:\tlearn: 0.0808292\ttotal: 2m 15s\tremaining: 17.3s\n",
      "887:\tlearn: 0.0807842\ttotal: 2m 15s\tremaining: 17.1s\n",
      "888:\tlearn: 0.0807456\ttotal: 2m 15s\tremaining: 17s\n",
      "889:\tlearn: 0.0807169\ttotal: 2m 15s\tremaining: 16.8s\n",
      "890:\tlearn: 0.0806871\ttotal: 2m 16s\tremaining: 16.6s\n",
      "891:\tlearn: 0.0806491\ttotal: 2m 16s\tremaining: 16.5s\n",
      "892:\tlearn: 0.0805809\ttotal: 2m 16s\tremaining: 16.3s\n",
      "893:\tlearn: 0.0805121\ttotal: 2m 16s\tremaining: 16.2s\n",
      "894:\tlearn: 0.0804499\ttotal: 2m 16s\tremaining: 16s\n",
      "895:\tlearn: 0.0803864\ttotal: 2m 16s\tremaining: 15.9s\n",
      "896:\tlearn: 0.0803243\ttotal: 2m 17s\tremaining: 15.7s\n",
      "897:\tlearn: 0.0802769\ttotal: 2m 17s\tremaining: 15.6s\n",
      "898:\tlearn: 0.0802245\ttotal: 2m 17s\tremaining: 15.4s\n",
      "899:\tlearn: 0.0801710\ttotal: 2m 17s\tremaining: 15.3s\n",
      "900:\tlearn: 0.0801349\ttotal: 2m 17s\tremaining: 15.1s\n",
      "901:\tlearn: 0.0800943\ttotal: 2m 17s\tremaining: 15s\n",
      "902:\tlearn: 0.0800512\ttotal: 2m 17s\tremaining: 14.8s\n",
      "903:\tlearn: 0.0800213\ttotal: 2m 18s\tremaining: 14.7s\n",
      "904:\tlearn: 0.0799674\ttotal: 2m 18s\tremaining: 14.5s\n",
      "905:\tlearn: 0.0799244\ttotal: 2m 18s\tremaining: 14.4s\n",
      "906:\tlearn: 0.0798895\ttotal: 2m 18s\tremaining: 14.2s\n",
      "907:\tlearn: 0.0798448\ttotal: 2m 18s\tremaining: 14.1s\n",
      "908:\tlearn: 0.0798035\ttotal: 2m 18s\tremaining: 13.9s\n",
      "909:\tlearn: 0.0797595\ttotal: 2m 19s\tremaining: 13.7s\n",
      "910:\tlearn: 0.0797320\ttotal: 2m 19s\tremaining: 13.6s\n",
      "911:\tlearn: 0.0796801\ttotal: 2m 19s\tremaining: 13.4s\n",
      "912:\tlearn: 0.0796297\ttotal: 2m 19s\tremaining: 13.3s\n",
      "913:\tlearn: 0.0795935\ttotal: 2m 19s\tremaining: 13.1s\n",
      "914:\tlearn: 0.0795481\ttotal: 2m 19s\tremaining: 13s\n",
      "915:\tlearn: 0.0795042\ttotal: 2m 19s\tremaining: 12.8s\n",
      "916:\tlearn: 0.0794758\ttotal: 2m 20s\tremaining: 12.7s\n",
      "917:\tlearn: 0.0794249\ttotal: 2m 20s\tremaining: 12.5s\n",
      "918:\tlearn: 0.0793941\ttotal: 2m 20s\tremaining: 12.4s\n",
      "919:\tlearn: 0.0793651\ttotal: 2m 20s\tremaining: 12.2s\n",
      "920:\tlearn: 0.0793336\ttotal: 2m 20s\tremaining: 12.1s\n",
      "921:\tlearn: 0.0792778\ttotal: 2m 20s\tremaining: 11.9s\n",
      "922:\tlearn: 0.0792181\ttotal: 2m 20s\tremaining: 11.8s\n",
      "923:\tlearn: 0.0791677\ttotal: 2m 21s\tremaining: 11.6s\n",
      "924:\tlearn: 0.0791110\ttotal: 2m 21s\tremaining: 11.5s\n",
      "925:\tlearn: 0.0790538\ttotal: 2m 21s\tremaining: 11.3s\n",
      "926:\tlearn: 0.0790094\ttotal: 2m 21s\tremaining: 11.1s\n",
      "927:\tlearn: 0.0789779\ttotal: 2m 21s\tremaining: 11s\n",
      "928:\tlearn: 0.0789476\ttotal: 2m 21s\tremaining: 10.8s\n",
      "929:\tlearn: 0.0789065\ttotal: 2m 22s\tremaining: 10.7s\n",
      "930:\tlearn: 0.0788836\ttotal: 2m 22s\tremaining: 10.5s\n",
      "931:\tlearn: 0.0788503\ttotal: 2m 22s\tremaining: 10.4s\n",
      "932:\tlearn: 0.0787972\ttotal: 2m 22s\tremaining: 10.2s\n",
      "933:\tlearn: 0.0787698\ttotal: 2m 22s\tremaining: 10.1s\n",
      "934:\tlearn: 0.0787141\ttotal: 2m 22s\tremaining: 9.92s\n",
      "935:\tlearn: 0.0786866\ttotal: 2m 22s\tremaining: 9.77s\n",
      "936:\tlearn: 0.0786408\ttotal: 2m 23s\tremaining: 9.61s\n",
      "937:\tlearn: 0.0785921\ttotal: 2m 23s\tremaining: 9.46s\n",
      "938:\tlearn: 0.0785465\ttotal: 2m 23s\tremaining: 9.31s\n",
      "939:\tlearn: 0.0785158\ttotal: 2m 23s\tremaining: 9.16s\n",
      "940:\tlearn: 0.0784805\ttotal: 2m 23s\tremaining: 9s\n",
      "941:\tlearn: 0.0784231\ttotal: 2m 23s\tremaining: 8.85s\n",
      "942:\tlearn: 0.0783912\ttotal: 2m 23s\tremaining: 8.7s\n",
      "943:\tlearn: 0.0783653\ttotal: 2m 24s\tremaining: 8.54s\n",
      "944:\tlearn: 0.0783296\ttotal: 2m 24s\tremaining: 8.39s\n",
      "945:\tlearn: 0.0782703\ttotal: 2m 24s\tremaining: 8.24s\n",
      "946:\tlearn: 0.0782480\ttotal: 2m 24s\tremaining: 8.09s\n",
      "947:\tlearn: 0.0781952\ttotal: 2m 24s\tremaining: 7.93s\n",
      "948:\tlearn: 0.0781631\ttotal: 2m 24s\tremaining: 7.78s\n",
      "949:\tlearn: 0.0781252\ttotal: 2m 24s\tremaining: 7.63s\n",
      "950:\tlearn: 0.0780808\ttotal: 2m 25s\tremaining: 7.47s\n",
      "951:\tlearn: 0.0780381\ttotal: 2m 25s\tremaining: 7.32s\n",
      "952:\tlearn: 0.0779883\ttotal: 2m 25s\tremaining: 7.17s\n",
      "953:\tlearn: 0.0779508\ttotal: 2m 25s\tremaining: 7.01s\n",
      "954:\tlearn: 0.0779322\ttotal: 2m 25s\tremaining: 6.86s\n",
      "955:\tlearn: 0.0778730\ttotal: 2m 25s\tremaining: 6.71s\n",
      "956:\tlearn: 0.0778325\ttotal: 2m 25s\tremaining: 6.56s\n",
      "957:\tlearn: 0.0777752\ttotal: 2m 26s\tremaining: 6.41s\n",
      "958:\tlearn: 0.0777332\ttotal: 2m 26s\tremaining: 6.25s\n",
      "959:\tlearn: 0.0776951\ttotal: 2m 26s\tremaining: 6.1s\n",
      "960:\tlearn: 0.0776485\ttotal: 2m 26s\tremaining: 5.95s\n",
      "961:\tlearn: 0.0776156\ttotal: 2m 26s\tremaining: 5.79s\n",
      "962:\tlearn: 0.0775647\ttotal: 2m 26s\tremaining: 5.64s\n",
      "963:\tlearn: 0.0775204\ttotal: 2m 26s\tremaining: 5.49s\n",
      "964:\tlearn: 0.0774828\ttotal: 2m 27s\tremaining: 5.33s\n",
      "965:\tlearn: 0.0774637\ttotal: 2m 27s\tremaining: 5.18s\n",
      "966:\tlearn: 0.0774344\ttotal: 2m 27s\tremaining: 5.03s\n",
      "967:\tlearn: 0.0773942\ttotal: 2m 27s\tremaining: 4.88s\n",
      "968:\tlearn: 0.0773613\ttotal: 2m 27s\tremaining: 4.72s\n",
      "969:\tlearn: 0.0773252\ttotal: 2m 27s\tremaining: 4.57s\n",
      "970:\tlearn: 0.0772811\ttotal: 2m 27s\tremaining: 4.42s\n",
      "971:\tlearn: 0.0772365\ttotal: 2m 28s\tremaining: 4.26s\n",
      "972:\tlearn: 0.0771880\ttotal: 2m 28s\tremaining: 4.11s\n",
      "973:\tlearn: 0.0771498\ttotal: 2m 28s\tremaining: 3.96s\n",
      "974:\tlearn: 0.0771135\ttotal: 2m 28s\tremaining: 3.81s\n",
      "975:\tlearn: 0.0770678\ttotal: 2m 28s\tremaining: 3.66s\n",
      "976:\tlearn: 0.0770237\ttotal: 2m 28s\tremaining: 3.5s\n",
      "977:\tlearn: 0.0769835\ttotal: 2m 29s\tremaining: 3.35s\n",
      "978:\tlearn: 0.0769400\ttotal: 2m 29s\tremaining: 3.2s\n",
      "979:\tlearn: 0.0769001\ttotal: 2m 29s\tremaining: 3.05s\n",
      "980:\tlearn: 0.0768713\ttotal: 2m 29s\tremaining: 2.9s\n",
      "981:\tlearn: 0.0768052\ttotal: 2m 29s\tremaining: 2.74s\n",
      "982:\tlearn: 0.0767609\ttotal: 2m 29s\tremaining: 2.59s\n",
      "983:\tlearn: 0.0767100\ttotal: 2m 30s\tremaining: 2.44s\n",
      "984:\tlearn: 0.0766699\ttotal: 2m 30s\tremaining: 2.29s\n",
      "985:\tlearn: 0.0766410\ttotal: 2m 30s\tremaining: 2.13s\n",
      "986:\tlearn: 0.0766157\ttotal: 2m 30s\tremaining: 1.98s\n",
      "987:\tlearn: 0.0765517\ttotal: 2m 30s\tremaining: 1.83s\n",
      "988:\tlearn: 0.0765145\ttotal: 2m 30s\tremaining: 1.68s\n",
      "989:\tlearn: 0.0764904\ttotal: 2m 30s\tremaining: 1.52s\n",
      "990:\tlearn: 0.0764441\ttotal: 2m 31s\tremaining: 1.37s\n",
      "991:\tlearn: 0.0763989\ttotal: 2m 31s\tremaining: 1.22s\n",
      "992:\tlearn: 0.0763505\ttotal: 2m 31s\tremaining: 1.07s\n",
      "993:\tlearn: 0.0763128\ttotal: 2m 31s\tremaining: 915ms\n",
      "994:\tlearn: 0.0762796\ttotal: 2m 31s\tremaining: 763ms\n",
      "995:\tlearn: 0.0762387\ttotal: 2m 31s\tremaining: 610ms\n",
      "996:\tlearn: 0.0762086\ttotal: 2m 32s\tremaining: 458ms\n",
      "997:\tlearn: 0.0761730\ttotal: 2m 32s\tremaining: 305ms\n",
      "998:\tlearn: 0.0761508\ttotal: 2m 32s\tremaining: 153ms\n",
      "999:\tlearn: 0.0761211\ttotal: 2m 32s\tremaining: 0us\n"
     ]
    },
    {
     "data": {
      "text/plain": [
       "<catboost.core.CatBoostClassifier at 0x198981d70d0>"
      ]
     },
     "execution_count": 61,
     "metadata": {},
     "output_type": "execute_result"
    }
   ],
   "source": [
    "model.fit(features_train,target_train)"
   ]
  },
  {
   "cell_type": "code",
   "execution_count": 62,
   "metadata": {},
   "outputs": [
    {
     "name": "stdout",
     "output_type": "stream",
     "text": [
      "0.8695615227736234\n"
     ]
    }
   ],
   "source": [
    "print(f1_score(target_train,model.predict(features_train)))"
   ]
  },
  {
   "cell_type": "code",
   "execution_count": 63,
   "metadata": {},
   "outputs": [
    {
     "name": "stdout",
     "output_type": "stream",
     "text": [
      "0.7027220630372493\n"
     ]
    }
   ],
   "source": [
    "print(f1_score(target_valid,model.predict(features_valid)))"
   ]
  },
  {
   "cell_type": "code",
   "execution_count": 64,
   "metadata": {},
   "outputs": [],
   "source": [
    "best_thr = 0\n",
    "best_score = 0\n",
    "for thr in np.arange(0.1,0.5,0.05):\n",
    "    score = f1_score(target_valid,model.predict_proba(features_valid)[:,1]>thr)\n",
    "    if(score>best_score):\n",
    "        best_score=score\n",
    "        best_thr=thr"
   ]
  },
  {
   "cell_type": "code",
   "execution_count": 65,
   "metadata": {},
   "outputs": [
    {
     "name": "stdout",
     "output_type": "stream",
     "text": [
      "0.45:0.72\n"
     ]
    }
   ],
   "source": [
    "print(f'{thr:.2}:{best_score:.2}')"
   ]
  },
  {
   "cell_type": "markdown",
   "metadata": {},
   "source": [
    "f1 на тренировочной выборке: 0.87</br>\n",
    "f1 на валидационной выборке: 0.72"
   ]
  },
  {
   "cell_type": "markdown",
   "metadata": {},
   "source": [
    "#### NeuralNetwork"
   ]
  },
  {
   "cell_type": "code",
   "execution_count": 36,
   "metadata": {},
   "outputs": [],
   "source": [
    "def train_model(model, optimizer, loss_fn, train_loader, val_loader, epochs):\n",
    "\n",
    "    for epoch in range(epochs):\n",
    "        model.train()\n",
    "        total_loss = 0\n",
    "        for batch in train_loader:\n",
    "            inputs, targets = batch\n",
    "            optimizer.zero_grad()\n",
    "            outputs = model(inputs)\n",
    "            loss = loss_fn(outputs, targets)\n",
    "            total_loss += loss.item()\n",
    "            loss.backward()\n",
    "            optimizer.step()\n",
    "\n",
    "        avg_train_loss = total_loss / len(train_loader)\n",
    "        print(f'Epoch {epoch+1}/{epochs}, Loss: {avg_train_loss}')\n",
    "\n",
    "        # Оценка на валидационном наборе\n",
    "        model.eval()\n",
    "        val_loss = 0\n",
    "        with torch.no_grad():\n",
    "            for batch in val_loader:\n",
    "                inputs, targets = batch\n",
    "                outputs = model(inputs)\n",
    "                loss = loss_fn(outputs, targets)\n",
    "                val_loss += loss.item()\n",
    "        avg_val_loss = val_loss / len(val_loader)\n",
    "        print(f'Validation Loss: {avg_val_loss}')\n",
    "\n",
    "    return model"
   ]
  },
  {
   "cell_type": "code",
   "execution_count": 37,
   "metadata": {},
   "outputs": [],
   "source": [
    "train_dataset = TensorDataset(torch.tensor(features_train,dtype=torch.float32),torch.tensor(target_train,dtype=torch.float32).view(-1,1))\n",
    "val_dataset = TensorDataset(torch.tensor(features_valid,dtype=torch.float32),torch.tensor(target_valid,dtype=torch.float32).view(-1,1))\n",
    "train_dataloader = DataLoader(train_dataset,batch_size=1500,shuffle=True)\n",
    "val_dataloader = DataLoader(val_dataset,batch_size=1000,shuffle=True)"
   ]
  },
  {
   "cell_type": "code",
   "execution_count": 38,
   "metadata": {},
   "outputs": [],
   "source": [
    "model = nn.Sequential(\n",
    "    nn.Linear(features.shape[-1],100),\n",
    "    nn.ReLU(),\n",
    "    nn.Dropout(0.2),\n",
    "    nn.Linear(100,1),\n",
    "    nn.Sigmoid()\n",
    ")"
   ]
  },
  {
   "cell_type": "markdown",
   "metadata": {},
   "source": [
    "Учтем дисбаланс классов"
   ]
  },
  {
   "cell_type": "code",
   "execution_count": 39,
   "metadata": {},
   "outputs": [],
   "source": [
    "class_counts = [len(target_train)-sum(target_train),sum(target_train)]\n",
    "total_count = len(target_train)\n",
    "class_weights = [total_count / class_count for class_count in class_counts]"
   ]
  },
  {
   "cell_type": "code",
   "execution_count": 40,
   "metadata": {},
   "outputs": [],
   "source": [
    "class_weights = torch.tensor(class_weights,dtype=torch.float32)"
   ]
  },
  {
   "cell_type": "code",
   "execution_count": 41,
   "metadata": {},
   "outputs": [
    {
     "data": {
      "text/plain": [
       "tensor([1.1132, 9.8358])"
      ]
     },
     "execution_count": 41,
     "metadata": {},
     "output_type": "execute_result"
    }
   ],
   "source": [
    "class_weights"
   ]
  },
  {
   "cell_type": "code",
   "execution_count": 42,
   "metadata": {},
   "outputs": [],
   "source": [
    "loss_fn = nn.BCELoss(reduction='none')"
   ]
  },
  {
   "cell_type": "code",
   "execution_count": 43,
   "metadata": {},
   "outputs": [],
   "source": [
    "def loss_weight_fn(y_pred,y_true):\n",
    "    loss_raw = loss_fn(y_pred,y_true)\n",
    "    weight = torch.ones_like(loss_raw)\n",
    "    weight[y_true==1.] = class_weights[1]\n",
    "    return (loss_raw*weight).mean()"
   ]
  },
  {
   "cell_type": "code",
   "execution_count": 44,
   "metadata": {},
   "outputs": [
    {
     "name": "stdout",
     "output_type": "stream",
     "text": [
      "Epoch 1/50, Loss: 0.8561941094258252\n",
      "Validation Loss: 0.595817044377327\n",
      "Epoch 2/50, Loss: 0.5405888957135817\n",
      "Validation Loss: 0.5374625772237778\n",
      "Epoch 3/50, Loss: 0.5069291886161356\n",
      "Validation Loss: 0.5209423247724771\n",
      "Epoch 4/50, Loss: 0.4915771659682779\n",
      "Validation Loss: 0.5104319024831057\n",
      "Epoch 5/50, Loss: 0.4828691054792965\n",
      "Validation Loss: 0.5051277447491884\n",
      "Epoch 6/50, Loss: 0.47584792130133685\n",
      "Validation Loss: 0.5047872215509415\n",
      "Epoch 7/50, Loss: 0.47102815543904025\n",
      "Validation Loss: 0.4976654276251793\n",
      "Epoch 8/50, Loss: 0.46614699398770054\n",
      "Validation Loss: 0.4968165308237076\n",
      "Epoch 9/50, Loss: 0.4642227242974674\n",
      "Validation Loss: 0.49186813458800316\n",
      "Epoch 10/50, Loss: 0.45959604627945844\n",
      "Validation Loss: 0.4910096898674965\n",
      "Epoch 11/50, Loss: 0.45687902710017037\n",
      "Validation Loss: 0.4915119055658579\n",
      "Epoch 12/50, Loss: 0.4539561194532058\n",
      "Validation Loss: 0.4892309866845608\n",
      "Epoch 13/50, Loss: 0.4508354860193589\n",
      "Validation Loss: 0.4877398610115051\n",
      "Epoch 14/50, Loss: 0.44832354082780723\n",
      "Validation Loss: 0.4877308551222086\n",
      "Epoch 15/50, Loss: 0.44615495310110204\n",
      "Validation Loss: 0.48570042848587036\n",
      "Epoch 16/50, Loss: 0.443648218757966\n",
      "Validation Loss: 0.4858980253338814\n",
      "Epoch 17/50, Loss: 0.440527048181085\n",
      "Validation Loss: 0.4877063222229481\n",
      "Epoch 18/50, Loss: 0.4380794009741615\n",
      "Validation Loss: 0.488714762032032\n",
      "Epoch 19/50, Loss: 0.43540513234979966\n",
      "Validation Loss: 0.4827371519058943\n",
      "Epoch 20/50, Loss: 0.4338303120697246\n",
      "Validation Loss: 0.4834639299660921\n",
      "Epoch 21/50, Loss: 0.4298077856793123\n",
      "Validation Loss: 0.48414280638098717\n",
      "Epoch 22/50, Loss: 0.42697388038915746\n",
      "Validation Loss: 0.48501899279654026\n",
      "Epoch 23/50, Loss: 0.42483055135783027\n",
      "Validation Loss: 0.48594699800014496\n",
      "Epoch 24/50, Loss: 0.42130623705246867\n",
      "Validation Loss: 0.48629395850002766\n",
      "Epoch 25/50, Loss: 0.4195463454022127\n",
      "Validation Loss: 0.48002183623611927\n",
      "Epoch 26/50, Loss: 0.416786033966962\n",
      "Validation Loss: 0.48221746645867825\n",
      "Epoch 27/50, Loss: 0.4135452768381904\n",
      "Validation Loss: 0.48400796577334404\n",
      "Epoch 28/50, Loss: 0.41054657276938944\n",
      "Validation Loss: 0.4815615713596344\n",
      "Epoch 29/50, Loss: 0.4078452730880064\n",
      "Validation Loss: 0.48037584125995636\n",
      "Epoch 30/50, Loss: 0.40481501607333914\n",
      "Validation Loss: 0.4830061662942171\n",
      "Epoch 31/50, Loss: 0.40088395265971916\n",
      "Validation Loss: 0.4833110813051462\n",
      "Epoch 32/50, Loss: 0.3969228867222281\n",
      "Validation Loss: 0.48031632229685783\n",
      "Epoch 33/50, Loss: 0.3931409022387336\n",
      "Validation Loss: 0.48014963418245316\n",
      "Epoch 34/50, Loss: 0.3902758016305811\n",
      "Validation Loss: 0.47843263670802116\n",
      "Epoch 35/50, Loss: 0.38753991267260385\n",
      "Validation Loss: 0.4867701381444931\n",
      "Epoch 36/50, Loss: 0.38468513979631314\n",
      "Validation Loss: 0.4806971587240696\n",
      "Epoch 37/50, Loss: 0.3803952757050009\n",
      "Validation Loss: 0.4815482869744301\n",
      "Epoch 38/50, Loss: 0.3757907229311326\n",
      "Validation Loss: 0.48360852897167206\n",
      "Epoch 39/50, Loss: 0.37300318479537964\n",
      "Validation Loss: 0.47953344509005547\n",
      "Epoch 40/50, Loss: 0.36972116337103\n",
      "Validation Loss: 0.483829028904438\n",
      "Epoch 41/50, Loss: 0.3657745533129748\n",
      "Validation Loss: 0.48345992527902126\n",
      "Epoch 42/50, Loss: 0.36349647010073943\n",
      "Validation Loss: 0.4922398626804352\n",
      "Epoch 43/50, Loss: 0.35781997337060817\n",
      "Validation Loss: 0.4891360476613045\n",
      "Epoch 44/50, Loss: 0.35609074620639575\n",
      "Validation Loss: 0.48373775742948055\n",
      "Epoch 45/50, Loss: 0.3523355953833636\n",
      "Validation Loss: 0.4843174647539854\n",
      "Epoch 46/50, Loss: 0.3477986363803639\n",
      "Validation Loss: 0.49278187192976475\n",
      "Epoch 47/50, Loss: 0.3452379444066216\n",
      "Validation Loss: 0.49328969791531563\n",
      "Epoch 48/50, Loss: 0.34142841731800755\n",
      "Validation Loss: 0.48407360538840294\n",
      "Epoch 49/50, Loss: 0.3382202891742482\n",
      "Validation Loss: 0.4897120278328657\n",
      "Epoch 50/50, Loss: 0.33528676558943354\n",
      "Validation Loss: 0.4908014368265867\n"
     ]
    }
   ],
   "source": [
    "model = train_model(model,optimizer=torch.optim.AdamW(model.parameters(),lr=0.001,weight_decay=0.004),loss_fn=loss_weight_fn,train_loader=train_dataloader,val_loader=val_dataloader,epochs=50)"
   ]
  },
  {
   "cell_type": "code",
   "execution_count": 45,
   "metadata": {},
   "outputs": [
    {
     "name": "stdout",
     "output_type": "stream",
     "text": [
      "0.7102078362606721\n"
     ]
    }
   ],
   "source": [
    "with torch.no_grad():\n",
    "    model.eval()\n",
    "    preds = model.forward(torch.tensor(features_train))\n",
    "    preds = preds.numpy()\n",
    "    preds = np.where(preds>=0.5,1,0)\n",
    "    preds = preds.squeeze(-1)\n",
    "    print(f1_score(target_train,preds))"
   ]
  },
  {
   "cell_type": "code",
   "execution_count": 46,
   "metadata": {},
   "outputs": [],
   "source": [
    "with torch.no_grad():\n",
    "    best_score = 0\n",
    "    best_thr = 0\n",
    "    model.eval()\n",
    "    preds = model.forward(torch.tensor(features_valid))\n",
    "    preds_np = preds.numpy()\n",
    "    for thr in np.arange(0.7,0.95,0.025):\n",
    "        preds_thr = np.where(preds_np>=thr,1,0)\n",
    "        preds_thr = preds_thr.squeeze(-1)\n",
    "        score = f1_score(target_valid,preds_thr)\n",
    "        if(score>best_score):\n",
    "            best_score = score\n",
    "            best_thr = thr"
   ]
  },
  {
   "cell_type": "code",
   "execution_count": 47,
   "metadata": {
    "scrolled": true
   },
   "outputs": [
    {
     "name": "stdout",
     "output_type": "stream",
     "text": [
      "0.93:0.76\n"
     ]
    }
   ],
   "source": [
    "print(f'{thr:.2}:{best_score:.2}')"
   ]
  },
  {
   "cell_type": "markdown",
   "metadata": {},
   "source": [
    "f1 на тренировочной выборке: 0.71</br>\n",
    "f1 на валидационной выборке: 0.76"
   ]
  },
  {
   "cell_type": "markdown",
   "metadata": {},
   "source": [
    "### Использование embedding с обучением модели (см Примечание)"
   ]
  },
  {
   "cell_type": "markdown",
   "metadata": {},
   "source": [
    "Теперь попробуем обучать саму embedding модель. В качестве предобученной модели используем Bert, добавив к ней линейный слой для классификации"
   ]
  },
  {
   "cell_type": "markdown",
   "metadata": {},
   "source": [
    "Загрузим полученные предсказания от модели"
   ]
  },
  {
   "cell_type": "code",
   "execution_count": 9,
   "metadata": {},
   "outputs": [],
   "source": [
    "with open('preds','rb') as output:\n",
    "    preds_lab = pickle.load(output)"
   ]
  },
  {
   "cell_type": "code",
   "execution_count": 14,
   "metadata": {},
   "outputs": [],
   "source": [
    "target_train,target_test = train_test_split(target,test_size=0.2,random_state=12345)\n",
    "target_test,target_valid = train_test_split(target_test,test_size=0.5,random_state=12345)"
   ]
  },
  {
   "cell_type": "code",
   "execution_count": 10,
   "metadata": {},
   "outputs": [],
   "source": [
    "preds_lab_train,preds_lab_test = train_test_split(preds_lab,test_size=0.2,random_state=12345)\n",
    "preds_lab_test,preds_lab_valid = train_test_split(preds_lab_test,test_size=0.5,random_state=12345)"
   ]
  },
  {
   "cell_type": "code",
   "execution_count": 11,
   "metadata": {},
   "outputs": [
    {
     "data": {
      "text/plain": [
       "(159292,)"
      ]
     },
     "execution_count": 11,
     "metadata": {},
     "output_type": "execute_result"
    }
   ],
   "source": [
    "preds_lab.shape"
   ]
  },
  {
   "cell_type": "code",
   "execution_count": 12,
   "metadata": {},
   "outputs": [
    {
     "data": {
      "text/plain": [
       "(15930,)"
      ]
     },
     "execution_count": 12,
     "metadata": {},
     "output_type": "execute_result"
    }
   ],
   "source": [
    "preds_lab_valid.shape"
   ]
  },
  {
   "cell_type": "code",
   "execution_count": 15,
   "metadata": {},
   "outputs": [
    {
     "name": "stdout",
     "output_type": "stream",
     "text": [
      "f1 на тренировочной выборке: 0.9298176981456849\n"
     ]
    }
   ],
   "source": [
    "print('f1 на тренировочной выборке:',f1_score(target_train,preds_lab_train))"
   ]
  },
  {
   "cell_type": "code",
   "execution_count": 16,
   "metadata": {},
   "outputs": [
    {
     "name": "stdout",
     "output_type": "stream",
     "text": [
      "f1 на валидационной выборке: 0.8274095421069485\n"
     ]
    }
   ],
   "source": [
    "print('f1 на валидационной выборке:',f1_score(target_valid,preds_lab_valid))"
   ]
  },
  {
   "cell_type": "markdown",
   "metadata": {},
   "source": [
    "f1 на тренировочной выборке: 0.93</br>\n",
    "f1 на валидационной выборке: 0.83"
   ]
  },
  {
   "cell_type": "markdown",
   "metadata": {},
   "source": [
    "## Выбор модели <a class=\"anchor\" id=\"chapter5\"></a>"
   ]
  },
  {
   "cell_type": "markdown",
   "metadata": {},
   "source": [
    "Исходя из результатов, лучшая модель - Bert с дополнительным линейным слоем на выходе</br>\n",
    "f1 на тренировочной выборке: 0.93</br>\n",
    "f1 на валидационной выборке: 0.83"
   ]
  },
  {
   "cell_type": "code",
   "execution_count": 22,
   "metadata": {},
   "outputs": [
    {
     "data": {
      "image/png": "[encoded data removed]",
      "text/plain": [
       "<Figure size 640x480 with 2 Axes>"
      ]
     },
     "metadata": {},
     "output_type": "display_data"
    }
   ],
   "source": [
    "sns.heatmap(confusion_matrix(target_test,preds_lab_test),annot=True,fmt='g',cmap=\"crest\").set(title='Матрица ошибок для тестового датасета',ylabel='Реальные',xlabel='Предсказанные');"
   ]
  },
  {
   "cell_type": "code",
   "execution_count": 66,
   "metadata": {
    "scrolled": true
   },
   "outputs": [
    {
     "name": "stdout",
     "output_type": "stream",
     "text": [
      "f1: 0.8305412371134022\n",
      "accuracy: 0.9669784669470777\n",
      "auc-roc: 0.8937963161621753\n"
     ]
    }
   ],
   "source": [
    "print('f1:',f1_score(target_test,preds_lab_test))\n",
    "print('accuracy:',accuracy_score(target_test,preds_lab_test))\n",
    "print('auc-roc:',roc_auc_score(target_test,preds_lab_test))"
   ]
  },
  {
   "cell_type": "markdown",
   "metadata": {},
   "source": [
    "### Вывод"
   ]
  },
  {
   "cell_type": "markdown",
   "metadata": {},
   "source": [
    "Исходя из результатов, лучшая модель - Bert с дополнительным линейным слоем на выходе</br>\n",
    "f1 на тренировочной выборке: 0.93</br>\n",
    "f1 на валидационной выборке: 0.83</br>\n",
    "f1 на тестовой выборке: 0.83\n",
    "accuracy: 0.97</br>\n",
    "auc-roc: 0.89</br>"
   ]
  },
  {
   "cell_type": "markdown",
   "metadata": {},
   "source": [
    "## Вывод <a class=\"anchor\" id=\"chapter7\"></a>"
   ]
  },
  {
   "cell_type": "markdown",
   "metadata": {},
   "source": [
    "Исходя из результатов, лучшая модель - Bert с дополнительным линейным слоем на выходе</br>\n",
    "f1 на тренировочной выборке: 0.93</br>\n",
    "f1 на валидационной выборке: 0.83</br>\n",
    "f1 на тестовой выборке: 0.83</br>\n",
    "accuracy: 0.97</br>\n",
    "auc-roc: 0.89</br>\n",
    "\n",
    "Полученное значение метрики f1 на тестовой выборке = 0.83 превышает значение 0.75, следовательно модель соответствует требованию заказчика."
   ]
  },
  {
   "cell_type": "markdown",
   "metadata": {},
   "source": [
    "- [x]  Jupyter Notebook открыт\n",
    "- [x]  Весь код выполняется без ошибок\n",
    "- [x]  Ячейки с кодом расположены в порядке исполнения\n",
    "- [x]  Данные загружены и подготовлены\n",
    "- [x]  Модели обучены\n",
    "- [x]  Значение метрики *F1* не меньше 0.75\n",
    "- [x]  Выводы написаны"
   ]
  },
  {
   "cell_type": "markdown",
   "metadata": {},
   "source": [
    "## Примечание <a class=\"anchor\" id=\"chapter6\"></a>"
   ]
  },
  {
   "cell_type": "markdown",
   "metadata": {},
   "source": [
    "Данный код запускался в отдельных блокнотах, поэтому не был включен в основую часть"
   ]
  },
  {
   "cell_type": "markdown",
   "metadata": {},
   "source": [
    "### Получение признаков с использованием обученной модели и библиотеки sentence_transformers"
   ]
  },
  {
   "cell_type": "code",
   "execution_count": null,
   "metadata": {},
   "outputs": [],
   "source": [
    "text = list(df['token_text'])\n",
    "model = SentenceTransformer(\"sentence-transformers/all-distilroberta-v1\",device='cuda')\n",
    "features = model.encode(text,batch_size=300,show_progress_bar=True,convert_to_numpy=True)\n",
    "with open('features','wb') as output:\n",
    "  pickle.dump(features,output)"
   ]
  },
  {
   "cell_type": "markdown",
   "metadata": {},
   "source": [
    "### Fine-tuning Bert и сохранение предсказний для датасета"
   ]
  },
  {
   "cell_type": "code",
   "execution_count": null,
   "metadata": {},
   "outputs": [],
   "source": [
    "tokenizer = AutoTokenizer.from_pretrained(\"distilbert-base-uncased\")\n",
    "texts = list(df['token_text'])\n",
    "texts_train,texts_test,targets_train,targets_test = train_test_split(texts,target,test_size=0.2,random_state=12345)\n",
    "train_encodings = tokenizer(texts_train, truncation=True, padding=True)\n",
    "val_encodings = tokenizer(texts_test, truncation=True, padding=True)\n",
    "class BDataset(torch.utils.data.Dataset):\n",
    "    def __init__(self, encodings, labels):\n",
    "        self.encodings = encodings\n",
    "        self.labels = labels\n",
    "\n",
    "    def __getitem__(self, idx):\n",
    "        item = {key: torch.tensor(val[idx]) for key, val in self.encodings.items()}\n",
    "        item['labels'] = torch.tensor(self.labels[idx])\n",
    "        return item\n",
    "\n",
    "    def __len__(self):\n",
    "        return len(self.labels)\n",
    "train_dataset = BDataset(train_encodings, targets_train)\n",
    "val_dataset = BDataset(val_encodings,targets_test)\n",
    "from transformers import DistilBertForSequenceClassification, Trainer, TrainingArguments\n",
    "\n",
    "training_args = TrainingArguments(\n",
    "    output_dir='./results',   \n",
    "    num_train_epochs=3,             \n",
    "    per_device_train_batch_size=100, \n",
    "    per_device_eval_batch_size=100,  \n",
    "    warmup_steps=500,              \n",
    "    weight_decay=0.01,             \n",
    "    logging_dir='./logs',       \n",
    "    logging_steps=10,\n",
    "    fp16=True,\n",
    "    save_total_limit=1\n",
    ")\n",
    "\n",
    "model = DistilBertForSequenceClassification.from_pretrained(\"distilbert-base-uncased\")\n",
    "\n",
    "trainer = Trainer(\n",
    "    model=model,                      \n",
    "    args=training_args,                  \n",
    "    train_dataset=train_dataset,    \n",
    "    eval_dataset=val_dataset            \n",
    ")\n",
    "\n",
    "trainer.train()\n",
    "\n",
    "model = DistilBertForSequenceClassification.from_pretrained('results/checkpoint-2500')\n",
    "tokenizer_kwargs = {'padding':True,'truncation':True}\n",
    "\n",
    "classifier = pipeline(\"sentiment-analysis\", model=model,tokenizer=tokenizer,device=0)\n",
    "preds = classifier(texts,**tokenizer_kwargs)\n",
    "\n",
    "preds_lab = [p['label'] for p in preds]\n",
    "preds_lab = [s[-1] for s in preds_lab]\n",
    "preds_lab = [int(s) for s in preds_lab]\n",
    "preds_lab = np.array(preds_lab)\n",
    "\n",
    "with open('preds','wb') as output:\n",
    "  pickle.dump(preds_lab,output)"
   ]
  }
 ],
 "metadata": {
  "kernelspec": {
   "display_name": "Python 3 (ipykernel)",
   "language": "python",
   "name": "python3"
  },
  "language_info": {
   "codemirror_mode": {
    "name": "ipython",
    "version": 3
   },
   "file_extension": ".py",
   "mimetype": "text/x-python",
   "name": "python",
   "nbconvert_exporter": "python",
   "pygments_lexer": "ipython3",
   "version": "3.10.10"
  },
  "toc": {
   "base_numbering": 1,
   "nav_menu": {},
   "number_sections": true,
   "sideBar": true,
   "skip_h1_title": true,
   "title_cell": "Table of Contents",
   "title_sidebar": "Contents",
   "toc_cell": false,
   "toc_position": {},
   "toc_section_display": true,
   "toc_window_display": false
  }
 },
 "nbformat": 4,
 "nbformat_minor": 2
}
